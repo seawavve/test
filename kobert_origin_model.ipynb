{
  "nbformat": 4,
  "nbformat_minor": 0,
  "metadata": {
    "kernelspec": {
      "display_name": "Python 3",
      "language": "python",
      "name": "python3"
    },
    "language_info": {
      "codemirror_mode": {
        "name": "ipython",
        "version": 3
      },
      "file_extension": ".py",
      "mimetype": "text/x-python",
      "name": "python",
      "nbconvert_exporter": "python",
      "pygments_lexer": "ipython3",
      "version": "3.7.6-final"
    },
    "colab": {
      "name": "kobert_origin_model.ipynb",
      "provenance": [],
      "collapsed_sections": [
        "swz1zHIWv3mk"
      ],
      "include_colab_link": true
    },
    "accelerator": "GPU",
    "widgets": {
      "application/vnd.jupyter.widget-state+json": {
        "21ad5527a3a94693b96b595067b5d7fd": {
          "model_module": "@jupyter-widgets/controls",
          "model_name": "HBoxModel",
          "state": {
            "_view_name": "HBoxView",
            "_dom_classes": [],
            "_model_name": "HBoxModel",
            "_view_module": "@jupyter-widgets/controls",
            "_model_module_version": "1.5.0",
            "_view_count": null,
            "_view_module_version": "1.5.0",
            "box_style": "",
            "layout": "IPY_MODEL_f54484bf4b204c9fad42f2675f293bd2",
            "_model_module": "@jupyter-widgets/controls",
            "children": [
              "IPY_MODEL_034b950cf7c44195bed8552e8e491020",
              "IPY_MODEL_ef171b16d9374612bd9be5800fbe57e1"
            ]
          }
        },
        "f54484bf4b204c9fad42f2675f293bd2": {
          "model_module": "@jupyter-widgets/base",
          "model_name": "LayoutModel",
          "state": {
            "_view_name": "LayoutView",
            "grid_template_rows": null,
            "right": null,
            "justify_content": null,
            "_view_module": "@jupyter-widgets/base",
            "overflow": null,
            "_model_module_version": "1.2.0",
            "_view_count": null,
            "flex_flow": null,
            "width": null,
            "min_width": null,
            "border": null,
            "align_items": null,
            "bottom": null,
            "_model_module": "@jupyter-widgets/base",
            "top": null,
            "grid_column": null,
            "overflow_y": null,
            "overflow_x": null,
            "grid_auto_flow": null,
            "grid_area": null,
            "grid_template_columns": null,
            "flex": null,
            "_model_name": "LayoutModel",
            "justify_items": null,
            "grid_row": null,
            "max_height": null,
            "align_content": null,
            "visibility": null,
            "align_self": null,
            "height": null,
            "min_height": null,
            "padding": null,
            "grid_auto_rows": null,
            "grid_gap": null,
            "max_width": null,
            "order": null,
            "_view_module_version": "1.2.0",
            "grid_template_areas": null,
            "object_position": null,
            "object_fit": null,
            "grid_auto_columns": null,
            "margin": null,
            "display": null,
            "left": null
          }
        },
        "034b950cf7c44195bed8552e8e491020": {
          "model_module": "@jupyter-widgets/controls",
          "model_name": "FloatProgressModel",
          "state": {
            "_view_name": "ProgressView",
            "style": "IPY_MODEL_dc9002ffdbac437994a766f7afa69e22",
            "_dom_classes": [],
            "description": "100%",
            "_model_name": "FloatProgressModel",
            "bar_style": "success",
            "max": 4281,
            "_view_module": "@jupyter-widgets/controls",
            "_model_module_version": "1.5.0",
            "value": 4281,
            "_view_count": null,
            "_view_module_version": "1.5.0",
            "orientation": "horizontal",
            "min": 0,
            "description_tooltip": null,
            "_model_module": "@jupyter-widgets/controls",
            "layout": "IPY_MODEL_0333a02eeef34b17b23926f4b5fd699a"
          }
        },
        "ef171b16d9374612bd9be5800fbe57e1": {
          "model_module": "@jupyter-widgets/controls",
          "model_name": "HTMLModel",
          "state": {
            "_view_name": "HTMLView",
            "style": "IPY_MODEL_180ffaca1f3746fcb0d72cc0242d4e31",
            "_dom_classes": [],
            "description": "",
            "_model_name": "HTMLModel",
            "placeholder": "​",
            "_view_module": "@jupyter-widgets/controls",
            "_model_module_version": "1.5.0",
            "value": " 4281/4281 [30:51&lt;00:00,  2.31it/s]",
            "_view_count": null,
            "_view_module_version": "1.5.0",
            "description_tooltip": null,
            "_model_module": "@jupyter-widgets/controls",
            "layout": "IPY_MODEL_344d691210174046b18e9b56609ee191"
          }
        },
        "dc9002ffdbac437994a766f7afa69e22": {
          "model_module": "@jupyter-widgets/controls",
          "model_name": "ProgressStyleModel",
          "state": {
            "_view_name": "StyleView",
            "_model_name": "ProgressStyleModel",
            "description_width": "initial",
            "_view_module": "@jupyter-widgets/base",
            "_model_module_version": "1.5.0",
            "_view_count": null,
            "_view_module_version": "1.2.0",
            "bar_color": null,
            "_model_module": "@jupyter-widgets/controls"
          }
        },
        "0333a02eeef34b17b23926f4b5fd699a": {
          "model_module": "@jupyter-widgets/base",
          "model_name": "LayoutModel",
          "state": {
            "_view_name": "LayoutView",
            "grid_template_rows": null,
            "right": null,
            "justify_content": null,
            "_view_module": "@jupyter-widgets/base",
            "overflow": null,
            "_model_module_version": "1.2.0",
            "_view_count": null,
            "flex_flow": null,
            "width": null,
            "min_width": null,
            "border": null,
            "align_items": null,
            "bottom": null,
            "_model_module": "@jupyter-widgets/base",
            "top": null,
            "grid_column": null,
            "overflow_y": null,
            "overflow_x": null,
            "grid_auto_flow": null,
            "grid_area": null,
            "grid_template_columns": null,
            "flex": null,
            "_model_name": "LayoutModel",
            "justify_items": null,
            "grid_row": null,
            "max_height": null,
            "align_content": null,
            "visibility": null,
            "align_self": null,
            "height": null,
            "min_height": null,
            "padding": null,
            "grid_auto_rows": null,
            "grid_gap": null,
            "max_width": null,
            "order": null,
            "_view_module_version": "1.2.0",
            "grid_template_areas": null,
            "object_position": null,
            "object_fit": null,
            "grid_auto_columns": null,
            "margin": null,
            "display": null,
            "left": null
          }
        },
        "180ffaca1f3746fcb0d72cc0242d4e31": {
          "model_module": "@jupyter-widgets/controls",
          "model_name": "DescriptionStyleModel",
          "state": {
            "_view_name": "StyleView",
            "_model_name": "DescriptionStyleModel",
            "description_width": "",
            "_view_module": "@jupyter-widgets/base",
            "_model_module_version": "1.5.0",
            "_view_count": null,
            "_view_module_version": "1.2.0",
            "_model_module": "@jupyter-widgets/controls"
          }
        },
        "344d691210174046b18e9b56609ee191": {
          "model_module": "@jupyter-widgets/base",
          "model_name": "LayoutModel",
          "state": {
            "_view_name": "LayoutView",
            "grid_template_rows": null,
            "right": null,
            "justify_content": null,
            "_view_module": "@jupyter-widgets/base",
            "overflow": null,
            "_model_module_version": "1.2.0",
            "_view_count": null,
            "flex_flow": null,
            "width": null,
            "min_width": null,
            "border": null,
            "align_items": null,
            "bottom": null,
            "_model_module": "@jupyter-widgets/base",
            "top": null,
            "grid_column": null,
            "overflow_y": null,
            "overflow_x": null,
            "grid_auto_flow": null,
            "grid_area": null,
            "grid_template_columns": null,
            "flex": null,
            "_model_name": "LayoutModel",
            "justify_items": null,
            "grid_row": null,
            "max_height": null,
            "align_content": null,
            "visibility": null,
            "align_self": null,
            "height": null,
            "min_height": null,
            "padding": null,
            "grid_auto_rows": null,
            "grid_gap": null,
            "max_width": null,
            "order": null,
            "_view_module_version": "1.2.0",
            "grid_template_areas": null,
            "object_position": null,
            "object_fit": null,
            "grid_auto_columns": null,
            "margin": null,
            "display": null,
            "left": null
          }
        },
        "6850fc0fca27427ea9d00e8454ded99d": {
          "model_module": "@jupyter-widgets/controls",
          "model_name": "HBoxModel",
          "state": {
            "_view_name": "HBoxView",
            "_dom_classes": [],
            "_model_name": "HBoxModel",
            "_view_module": "@jupyter-widgets/controls",
            "_model_module_version": "1.5.0",
            "_view_count": null,
            "_view_module_version": "1.5.0",
            "box_style": "",
            "layout": "IPY_MODEL_7a24b76792364642a584d8560e53ff74",
            "_model_module": "@jupyter-widgets/controls",
            "children": [
              "IPY_MODEL_7797cf27691f4e049b6087827661c805",
              "IPY_MODEL_514203c548c148d09086abad6dfc8e1c"
            ]
          }
        },
        "7a24b76792364642a584d8560e53ff74": {
          "model_module": "@jupyter-widgets/base",
          "model_name": "LayoutModel",
          "state": {
            "_view_name": "LayoutView",
            "grid_template_rows": null,
            "right": null,
            "justify_content": null,
            "_view_module": "@jupyter-widgets/base",
            "overflow": null,
            "_model_module_version": "1.2.0",
            "_view_count": null,
            "flex_flow": null,
            "width": null,
            "min_width": null,
            "border": null,
            "align_items": null,
            "bottom": null,
            "_model_module": "@jupyter-widgets/base",
            "top": null,
            "grid_column": null,
            "overflow_y": null,
            "overflow_x": null,
            "grid_auto_flow": null,
            "grid_area": null,
            "grid_template_columns": null,
            "flex": null,
            "_model_name": "LayoutModel",
            "justify_items": null,
            "grid_row": null,
            "max_height": null,
            "align_content": null,
            "visibility": null,
            "align_self": null,
            "height": null,
            "min_height": null,
            "padding": null,
            "grid_auto_rows": null,
            "grid_gap": null,
            "max_width": null,
            "order": null,
            "_view_module_version": "1.2.0",
            "grid_template_areas": null,
            "object_position": null,
            "object_fit": null,
            "grid_auto_columns": null,
            "margin": null,
            "display": null,
            "left": null
          }
        },
        "7797cf27691f4e049b6087827661c805": {
          "model_module": "@jupyter-widgets/controls",
          "model_name": "FloatProgressModel",
          "state": {
            "_view_name": "ProgressView",
            "style": "IPY_MODEL_8ede33ef7fbf439fbe6c2f0be8073be7",
            "_dom_classes": [],
            "description": "100%",
            "_model_name": "FloatProgressModel",
            "bar_style": "success",
            "max": 286,
            "_view_module": "@jupyter-widgets/controls",
            "_model_module_version": "1.5.0",
            "value": 286,
            "_view_count": null,
            "_view_module_version": "1.5.0",
            "orientation": "horizontal",
            "min": 0,
            "description_tooltip": null,
            "_model_module": "@jupyter-widgets/controls",
            "layout": "IPY_MODEL_acd2ccb313ba4cdb9e0b1bcdf61666c3"
          }
        },
        "514203c548c148d09086abad6dfc8e1c": {
          "model_module": "@jupyter-widgets/controls",
          "model_name": "HTMLModel",
          "state": {
            "_view_name": "HTMLView",
            "style": "IPY_MODEL_786328c2100b4b92b15f4783f5ff776a",
            "_dom_classes": [],
            "description": "",
            "_model_name": "HTMLModel",
            "placeholder": "​",
            "_view_module": "@jupyter-widgets/controls",
            "_model_module_version": "1.5.0",
            "value": " 286/286 [00:38&lt;00:00,  7.38it/s]",
            "_view_count": null,
            "_view_module_version": "1.5.0",
            "description_tooltip": null,
            "_model_module": "@jupyter-widgets/controls",
            "layout": "IPY_MODEL_d4fd334a62ff494c8e9002461d192bb5"
          }
        },
        "8ede33ef7fbf439fbe6c2f0be8073be7": {
          "model_module": "@jupyter-widgets/controls",
          "model_name": "ProgressStyleModel",
          "state": {
            "_view_name": "StyleView",
            "_model_name": "ProgressStyleModel",
            "description_width": "initial",
            "_view_module": "@jupyter-widgets/base",
            "_model_module_version": "1.5.0",
            "_view_count": null,
            "_view_module_version": "1.2.0",
            "bar_color": null,
            "_model_module": "@jupyter-widgets/controls"
          }
        },
        "acd2ccb313ba4cdb9e0b1bcdf61666c3": {
          "model_module": "@jupyter-widgets/base",
          "model_name": "LayoutModel",
          "state": {
            "_view_name": "LayoutView",
            "grid_template_rows": null,
            "right": null,
            "justify_content": null,
            "_view_module": "@jupyter-widgets/base",
            "overflow": null,
            "_model_module_version": "1.2.0",
            "_view_count": null,
            "flex_flow": null,
            "width": null,
            "min_width": null,
            "border": null,
            "align_items": null,
            "bottom": null,
            "_model_module": "@jupyter-widgets/base",
            "top": null,
            "grid_column": null,
            "overflow_y": null,
            "overflow_x": null,
            "grid_auto_flow": null,
            "grid_area": null,
            "grid_template_columns": null,
            "flex": null,
            "_model_name": "LayoutModel",
            "justify_items": null,
            "grid_row": null,
            "max_height": null,
            "align_content": null,
            "visibility": null,
            "align_self": null,
            "height": null,
            "min_height": null,
            "padding": null,
            "grid_auto_rows": null,
            "grid_gap": null,
            "max_width": null,
            "order": null,
            "_view_module_version": "1.2.0",
            "grid_template_areas": null,
            "object_position": null,
            "object_fit": null,
            "grid_auto_columns": null,
            "margin": null,
            "display": null,
            "left": null
          }
        },
        "786328c2100b4b92b15f4783f5ff776a": {
          "model_module": "@jupyter-widgets/controls",
          "model_name": "DescriptionStyleModel",
          "state": {
            "_view_name": "StyleView",
            "_model_name": "DescriptionStyleModel",
            "description_width": "",
            "_view_module": "@jupyter-widgets/base",
            "_model_module_version": "1.5.0",
            "_view_count": null,
            "_view_module_version": "1.2.0",
            "_model_module": "@jupyter-widgets/controls"
          }
        },
        "d4fd334a62ff494c8e9002461d192bb5": {
          "model_module": "@jupyter-widgets/base",
          "model_name": "LayoutModel",
          "state": {
            "_view_name": "LayoutView",
            "grid_template_rows": null,
            "right": null,
            "justify_content": null,
            "_view_module": "@jupyter-widgets/base",
            "overflow": null,
            "_model_module_version": "1.2.0",
            "_view_count": null,
            "flex_flow": null,
            "width": null,
            "min_width": null,
            "border": null,
            "align_items": null,
            "bottom": null,
            "_model_module": "@jupyter-widgets/base",
            "top": null,
            "grid_column": null,
            "overflow_y": null,
            "overflow_x": null,
            "grid_auto_flow": null,
            "grid_area": null,
            "grid_template_columns": null,
            "flex": null,
            "_model_name": "LayoutModel",
            "justify_items": null,
            "grid_row": null,
            "max_height": null,
            "align_content": null,
            "visibility": null,
            "align_self": null,
            "height": null,
            "min_height": null,
            "padding": null,
            "grid_auto_rows": null,
            "grid_gap": null,
            "max_width": null,
            "order": null,
            "_view_module_version": "1.2.0",
            "grid_template_areas": null,
            "object_position": null,
            "object_fit": null,
            "grid_auto_columns": null,
            "margin": null,
            "display": null,
            "left": null
          }
        }
      }
    }
  },
  "cells": [
    {
      "cell_type": "markdown",
      "metadata": {
        "id": "view-in-github",
        "colab_type": "text"
      },
      "source": [
        "<a href=\"https://colab.research.google.com/github/seawavve/test/blob/main/kobert_origin_model.ipynb\" target=\"_parent\"><img src=\"https://colab.research.google.com/assets/colab-badge.svg\" alt=\"Open In Colab\"/></a>"
      ]
    },
    {
      "cell_type": "markdown",
      "metadata": {
        "id": "swz1zHIWv3mk"
      },
      "source": [
        "# 환경설정 "
      ]
    },
    {
      "cell_type": "code",
      "metadata": {
        "id": "6ZrbZC9vJULc",
        "colab": {
          "base_uri": "https://localhost:8080/"
        },
        "outputId": "fd9acbfa-1a1f-4f49-fe46-a927aea8bd2e"
      },
      "source": [
        "!pip install mxnet\n",
        "!pip install gluonnlp pandas tqdm\n",
        "!pip install sentencepiece\n",
        "!pip install transformers\n",
        "!pip install torch"
      ],
      "execution_count": 46,
      "outputs": [
        {
          "output_type": "stream",
          "text": [
            "Requirement already satisfied: mxnet in /usr/local/lib/python3.7/dist-packages (1.8.0.post0)\n",
            "Requirement already satisfied: requests<3,>=2.20.0 in /usr/local/lib/python3.7/dist-packages (from mxnet) (2.23.0)\n",
            "Requirement already satisfied: graphviz<0.9.0,>=0.8.1 in /usr/local/lib/python3.7/dist-packages (from mxnet) (0.8.4)\n",
            "Requirement already satisfied: numpy<2.0.0,>1.16.0 in /usr/local/lib/python3.7/dist-packages (from mxnet) (1.19.5)\n",
            "Requirement already satisfied: certifi>=2017.4.17 in /usr/local/lib/python3.7/dist-packages (from requests<3,>=2.20.0->mxnet) (2021.5.30)\n",
            "Requirement already satisfied: urllib3!=1.25.0,!=1.25.1,<1.26,>=1.21.1 in /usr/local/lib/python3.7/dist-packages (from requests<3,>=2.20.0->mxnet) (1.24.3)\n",
            "Requirement already satisfied: idna<3,>=2.5 in /usr/local/lib/python3.7/dist-packages (from requests<3,>=2.20.0->mxnet) (2.10)\n",
            "Requirement already satisfied: chardet<4,>=3.0.2 in /usr/local/lib/python3.7/dist-packages (from requests<3,>=2.20.0->mxnet) (3.0.4)\n",
            "Requirement already satisfied: gluonnlp in /usr/local/lib/python3.7/dist-packages (0.10.0)\n",
            "Requirement already satisfied: pandas in /usr/local/lib/python3.7/dist-packages (1.1.5)\n",
            "Requirement already satisfied: tqdm in /usr/local/lib/python3.7/dist-packages (4.41.1)\n",
            "Requirement already satisfied: cython in /usr/local/lib/python3.7/dist-packages (from gluonnlp) (0.29.23)\n",
            "Requirement already satisfied: numpy>=1.16.0 in /usr/local/lib/python3.7/dist-packages (from gluonnlp) (1.19.5)\n",
            "Requirement already satisfied: packaging in /usr/local/lib/python3.7/dist-packages (from gluonnlp) (20.9)\n",
            "Requirement already satisfied: python-dateutil>=2.7.3 in /usr/local/lib/python3.7/dist-packages (from pandas) (2.8.1)\n",
            "Requirement already satisfied: pytz>=2017.2 in /usr/local/lib/python3.7/dist-packages (from pandas) (2018.9)\n",
            "Requirement already satisfied: pyparsing>=2.0.2 in /usr/local/lib/python3.7/dist-packages (from packaging->gluonnlp) (2.4.7)\n",
            "Requirement already satisfied: six>=1.5 in /usr/local/lib/python3.7/dist-packages (from python-dateutil>=2.7.3->pandas) (1.15.0)\n",
            "Requirement already satisfied: sentencepiece in /usr/local/lib/python3.7/dist-packages (0.1.96)\n",
            "Requirement already satisfied: transformers in /usr/local/lib/python3.7/dist-packages (3.0.0)\n",
            "Requirement already satisfied: requests in /usr/local/lib/python3.7/dist-packages (from transformers) (2.23.0)\n",
            "Requirement already satisfied: tokenizers==0.8.0-rc4 in /usr/local/lib/python3.7/dist-packages (from transformers) (0.8.0rc4)\n",
            "Requirement already satisfied: numpy in /usr/local/lib/python3.7/dist-packages (from transformers) (1.19.5)\n",
            "Requirement already satisfied: packaging in /usr/local/lib/python3.7/dist-packages (from transformers) (20.9)\n",
            "Requirement already satisfied: regex!=2019.12.17 in /usr/local/lib/python3.7/dist-packages (from transformers) (2019.12.20)\n",
            "Requirement already satisfied: filelock in /usr/local/lib/python3.7/dist-packages (from transformers) (3.0.12)\n",
            "Requirement already satisfied: sacremoses in /usr/local/lib/python3.7/dist-packages (from transformers) (0.0.45)\n",
            "Requirement already satisfied: sentencepiece in /usr/local/lib/python3.7/dist-packages (from transformers) (0.1.96)\n",
            "Requirement already satisfied: tqdm>=4.27 in /usr/local/lib/python3.7/dist-packages (from transformers) (4.41.1)\n",
            "Requirement already satisfied: idna<3,>=2.5 in /usr/local/lib/python3.7/dist-packages (from requests->transformers) (2.10)\n",
            "Requirement already satisfied: certifi>=2017.4.17 in /usr/local/lib/python3.7/dist-packages (from requests->transformers) (2021.5.30)\n",
            "Requirement already satisfied: chardet<4,>=3.0.2 in /usr/local/lib/python3.7/dist-packages (from requests->transformers) (3.0.4)\n",
            "Requirement already satisfied: urllib3!=1.25.0,!=1.25.1,<1.26,>=1.21.1 in /usr/local/lib/python3.7/dist-packages (from requests->transformers) (1.24.3)\n",
            "Requirement already satisfied: pyparsing>=2.0.2 in /usr/local/lib/python3.7/dist-packages (from packaging->transformers) (2.4.7)\n",
            "Requirement already satisfied: joblib in /usr/local/lib/python3.7/dist-packages (from sacremoses->transformers) (1.0.1)\n",
            "Requirement already satisfied: click in /usr/local/lib/python3.7/dist-packages (from sacremoses->transformers) (7.1.2)\n",
            "Requirement already satisfied: six in /usr/local/lib/python3.7/dist-packages (from sacremoses->transformers) (1.15.0)\n",
            "Requirement already satisfied: torch in /usr/local/lib/python3.7/dist-packages (1.9.0+cu102)\n",
            "Requirement already satisfied: typing-extensions in /usr/local/lib/python3.7/dist-packages (from torch) (3.7.4.3)\n"
          ],
          "name": "stdout"
        }
      ]
    },
    {
      "cell_type": "code",
      "metadata": {
        "id": "o-GJmMMPJULc",
        "colab": {
          "base_uri": "https://localhost:8080/"
        },
        "outputId": "e23f74d2-7430-485c-823c-6ad541debb66"
      },
      "source": [
        "!pip install git+https://git@github.com/SKTBrain/KoBERT.git@master\n",
        "!pip install transformers==3"
      ],
      "execution_count": 47,
      "outputs": [
        {
          "output_type": "stream",
          "text": [
            "Collecting git+https://****@github.com/SKTBrain/KoBERT.git@master\n",
            "  Cloning https://****@github.com/SKTBrain/KoBERT.git (to revision master) to /tmp/pip-req-build-gvajl624\n",
            "  Running command git clone -q 'https://****@github.com/SKTBrain/KoBERT.git' /tmp/pip-req-build-gvajl624\n",
            "Requirement already satisfied (use --upgrade to upgrade): kobert==0.1.2 from git+https://****@github.com/SKTBrain/KoBERT.git@master in /usr/local/lib/python3.7/dist-packages\n",
            "Building wheels for collected packages: kobert\n",
            "  Building wheel for kobert (setup.py) ... \u001b[?25l\u001b[?25hdone\n",
            "  Created wheel for kobert: filename=kobert-0.1.2-cp37-none-any.whl size=12773 sha256=3e71c88809981f2c03ee9b08775f2549a573ff9b1936b4a7651bafc60339e09f\n",
            "  Stored in directory: /tmp/pip-ephem-wheel-cache-mv023zr6/wheels/a2/b0/41/435ee4e918f91918be41529283c5ff86cd010f02e7525aecf3\n",
            "Successfully built kobert\n",
            "Requirement already satisfied: transformers==3 in /usr/local/lib/python3.7/dist-packages (3.0.0)\n",
            "Requirement already satisfied: regex!=2019.12.17 in /usr/local/lib/python3.7/dist-packages (from transformers==3) (2019.12.20)\n",
            "Requirement already satisfied: numpy in /usr/local/lib/python3.7/dist-packages (from transformers==3) (1.19.5)\n",
            "Requirement already satisfied: tokenizers==0.8.0-rc4 in /usr/local/lib/python3.7/dist-packages (from transformers==3) (0.8.0rc4)\n",
            "Requirement already satisfied: filelock in /usr/local/lib/python3.7/dist-packages (from transformers==3) (3.0.12)\n",
            "Requirement already satisfied: sacremoses in /usr/local/lib/python3.7/dist-packages (from transformers==3) (0.0.45)\n",
            "Requirement already satisfied: packaging in /usr/local/lib/python3.7/dist-packages (from transformers==3) (20.9)\n",
            "Requirement already satisfied: tqdm>=4.27 in /usr/local/lib/python3.7/dist-packages (from transformers==3) (4.41.1)\n",
            "Requirement already satisfied: requests in /usr/local/lib/python3.7/dist-packages (from transformers==3) (2.23.0)\n",
            "Requirement already satisfied: sentencepiece in /usr/local/lib/python3.7/dist-packages (from transformers==3) (0.1.96)\n",
            "Requirement already satisfied: joblib in /usr/local/lib/python3.7/dist-packages (from sacremoses->transformers==3) (1.0.1)\n",
            "Requirement already satisfied: six in /usr/local/lib/python3.7/dist-packages (from sacremoses->transformers==3) (1.15.0)\n",
            "Requirement already satisfied: click in /usr/local/lib/python3.7/dist-packages (from sacremoses->transformers==3) (7.1.2)\n",
            "Requirement already satisfied: pyparsing>=2.0.2 in /usr/local/lib/python3.7/dist-packages (from packaging->transformers==3) (2.4.7)\n",
            "Requirement already satisfied: certifi>=2017.4.17 in /usr/local/lib/python3.7/dist-packages (from requests->transformers==3) (2021.5.30)\n",
            "Requirement already satisfied: chardet<4,>=3.0.2 in /usr/local/lib/python3.7/dist-packages (from requests->transformers==3) (3.0.4)\n",
            "Requirement already satisfied: urllib3!=1.25.0,!=1.25.1,<1.26,>=1.21.1 in /usr/local/lib/python3.7/dist-packages (from requests->transformers==3) (1.24.3)\n",
            "Requirement already satisfied: idna<3,>=2.5 in /usr/local/lib/python3.7/dist-packages (from requests->transformers==3) (2.10)\n"
          ],
          "name": "stdout"
        }
      ]
    },
    {
      "cell_type": "code",
      "metadata": {
        "id": "P1MKMgHtJULd"
      },
      "source": [
        "import torch\n",
        "from torch import nn\n",
        "import torch.nn.functional as F\n",
        "import torch.optim as optim\n",
        "from torch.utils.data import Dataset, DataLoader\n",
        "import gluonnlp as nlp\n",
        "import numpy as np\n",
        "from tqdm import tqdm, tqdm_notebook"
      ],
      "execution_count": 48,
      "outputs": []
    },
    {
      "cell_type": "code",
      "metadata": {
        "id": "cXnDQiZgJULd"
      },
      "source": [
        "from kobert.utils import get_tokenizer\n",
        "from kobert.pytorch_kobert import get_pytorch_kobert_model"
      ],
      "execution_count": 49,
      "outputs": []
    },
    {
      "cell_type": "code",
      "metadata": {
        "id": "WSLNltxXJULd"
      },
      "source": [
        "from transformers import AdamW\n",
        "from transformers.optimization import get_cosine_schedule_with_warmup"
      ],
      "execution_count": 50,
      "outputs": []
    },
    {
      "cell_type": "markdown",
      "metadata": {
        "id": "gGWZb5Zyv97m"
      },
      "source": [
        "# 모델"
      ]
    },
    {
      "cell_type": "code",
      "metadata": {
        "id": "0vVQ2Y5oJULd"
      },
      "source": [
        "##GPU 사용 시\n",
        "device = torch.device(\"cuda:0\")"
      ],
      "execution_count": 51,
      "outputs": []
    },
    {
      "cell_type": "code",
      "metadata": {
        "id": "6aMm8cxLJULe",
        "colab": {
          "base_uri": "https://localhost:8080/"
        },
        "outputId": "6d18305a-e7ab-4796-9a0b-7ccc25f6fc30"
      },
      "source": [
        "bertmodel, vocab = get_pytorch_kobert_model()"
      ],
      "execution_count": 52,
      "outputs": [
        {
          "output_type": "stream",
          "text": [
            "using cached model\n",
            "using cached model\n"
          ],
          "name": "stdout"
        }
      ]
    },
    {
      "cell_type": "code",
      "metadata": {
        "id": "gEAyrCfHJULe"
      },
      "source": [
        "# !wget https://www.dropbox.com/s/374ftkec978br3d/ratings_train.txt?dl=1\n",
        "# !wget https://www.dropbox.com/s/977gbwh542gdy94/ratings_test.txt?dl=1"
      ],
      "execution_count": 53,
      "outputs": []
    },
    {
      "cell_type": "code",
      "metadata": {
        "id": "Ktz9FSItJULf"
      },
      "source": [
        "dataset_train = nlp.data.TSVDataset(\"augumented_train_data.tsv\", field_indices=[1,2], num_discard_samples=1)\n",
        "dataset_test = nlp.data.TSVDataset(\"test_data.tsv\", field_indices=[1,2], num_discard_samples=1)"
      ],
      "execution_count": 54,
      "outputs": []
    },
    {
      "cell_type": "code",
      "metadata": {
        "id": "XmFt1aWmJULf",
        "colab": {
          "base_uri": "https://localhost:8080/"
        },
        "outputId": "4a9f8682-915c-4438-fafb-a19fbd1916ea"
      },
      "source": [
        "tokenizer = get_tokenizer()\n",
        "tok = nlp.data.BERTSPTokenizer(tokenizer, vocab, lower=False)"
      ],
      "execution_count": 55,
      "outputs": [
        {
          "output_type": "stream",
          "text": [
            "using cached model\n"
          ],
          "name": "stdout"
        }
      ]
    },
    {
      "cell_type": "code",
      "metadata": {
        "id": "facnopWIJULg"
      },
      "source": [
        "class BERTDataset(Dataset):\n",
        "    def __init__(self, dataset, sent_idx, label_idx, bert_tokenizer, max_len,\n",
        "                 pad, pair):\n",
        "        transform = nlp.data.BERTSentenceTransform(\n",
        "            bert_tokenizer, max_seq_length=max_len, pad=pad, pair=pair)\n",
        "\n",
        "        self.sentences = [transform([i[sent_idx]]) for i in dataset]\n",
        "        self.labels = [np.int32(i[label_idx]) for i in dataset]\n",
        "\n",
        "    def __getitem__(self, i):\n",
        "        return (self.sentences[i] + (self.labels[i], ))\n",
        "\n",
        "    def __len__(self):\n",
        "        return (len(self.labels))\n"
      ],
      "execution_count": 56,
      "outputs": []
    },
    {
      "cell_type": "code",
      "metadata": {
        "id": "FihW1qRhJULg"
      },
      "source": [
        "## Setting parameters\n",
        "max_len = 64\n",
        "batch_size = 32\n",
        "warmup_ratio = 0.1\n",
        "num_epochs = 1\n",
        "max_grad_norm = 1\n",
        "log_interval = 200\n",
        "learning_rate =  5e-5"
      ],
      "execution_count": 57,
      "outputs": []
    },
    {
      "cell_type": "code",
      "metadata": {
        "id": "jYELh9XWJULg"
      },
      "source": [
        "data_train = BERTDataset(dataset_train, 0, 1, tok, max_len, True, False)\n",
        "data_test = BERTDataset(dataset_test, 0, 1, tok, max_len, True, False)"
      ],
      "execution_count": 58,
      "outputs": []
    },
    {
      "cell_type": "code",
      "metadata": {
        "id": "8pOHWAP9JULg",
        "colab": {
          "base_uri": "https://localhost:8080/"
        },
        "outputId": "dcff8fd8-e3de-4c60-8b9e-8a09c2ff5600"
      },
      "source": [
        "train_dataloader = torch.utils.data.DataLoader(data_train, batch_size=batch_size, num_workers=5)\n",
        "test_dataloader = torch.utils.data.DataLoader(data_test, batch_size=batch_size, num_workers=5)"
      ],
      "execution_count": 59,
      "outputs": [
        {
          "output_type": "stream",
          "text": [
            "/usr/local/lib/python3.7/dist-packages/torch/utils/data/dataloader.py:481: UserWarning: This DataLoader will create 5 worker processes in total. Our suggested max number of worker in current system is 2, which is smaller than what this DataLoader is going to create. Please be aware that excessive worker creation might get DataLoader running slow or even freeze, lower the worker number to avoid potential slowness/freeze if necessary.\n",
            "  cpuset_checked))\n"
          ],
          "name": "stderr"
        }
      ]
    },
    {
      "cell_type": "code",
      "metadata": {
        "id": "AdOufYuAJULh"
      },
      "source": [
        "class BERTClassifier(nn.Module):\n",
        "    def __init__(self,\n",
        "                 bert,\n",
        "                 hidden_size = 768,\n",
        "                 num_classes=7,\n",
        "                 dr_rate=None,\n",
        "                 params=None):\n",
        "        super(BERTClassifier, self).__init__()\n",
        "        self.bert = bert\n",
        "        self.dr_rate = dr_rate\n",
        "                 \n",
        "        self.classifier = nn.Linear(hidden_size , num_classes)\n",
        "        if dr_rate:\n",
        "            self.dropout = nn.Dropout(p=dr_rate)\n",
        "    \n",
        "    def gen_attention_mask(self, token_ids, valid_length):\n",
        "        attention_mask = torch.zeros_like(token_ids)\n",
        "        for i, v in enumerate(valid_length):\n",
        "            attention_mask[i][:v] = 1\n",
        "        return attention_mask.float()\n",
        "\n",
        "    def forward(self, token_ids, valid_length, segment_ids):\n",
        "        attention_mask = self.gen_attention_mask(token_ids, valid_length)\n",
        "        \n",
        "        _, pooler = self.bert(input_ids = token_ids, token_type_ids = segment_ids.long(), attention_mask = attention_mask.float().to(token_ids.device))\n",
        "        if self.dr_rate:\n",
        "            out = self.dropout(pooler)\n",
        "        return self.classifier(out)"
      ],
      "execution_count": 60,
      "outputs": []
    },
    {
      "cell_type": "code",
      "metadata": {
        "id": "zqAJazzdJULh"
      },
      "source": [
        "model = BERTClassifier(bertmodel,  dr_rate=0.5).to(device)"
      ],
      "execution_count": 61,
      "outputs": []
    },
    {
      "cell_type": "code",
      "metadata": {
        "id": "xnMI20I3JULh"
      },
      "source": [
        "# Prepare optimizer and schedule (linear warmup and decay)\n",
        "no_decay = ['bias', 'LayerNorm.weight']\n",
        "optimizer_grouped_parameters = [\n",
        "    {'params': [p for n, p in model.named_parameters() if not any(nd in n for nd in no_decay)], 'weight_decay': 0.01},\n",
        "    {'params': [p for n, p in model.named_parameters() if any(nd in n for nd in no_decay)], 'weight_decay': 0.0}\n",
        "]"
      ],
      "execution_count": 62,
      "outputs": []
    },
    {
      "cell_type": "code",
      "metadata": {
        "id": "GBTt_ZLGJULh"
      },
      "source": [
        "optimizer = AdamW(optimizer_grouped_parameters, lr=learning_rate)\n",
        "loss_fn = nn.CrossEntropyLoss()"
      ],
      "execution_count": 63,
      "outputs": []
    },
    {
      "cell_type": "code",
      "metadata": {
        "id": "6Xz5XVDVJULh"
      },
      "source": [
        "t_total = len(train_dataloader) * num_epochs\n",
        "warmup_step = int(t_total * warmup_ratio)"
      ],
      "execution_count": 64,
      "outputs": []
    },
    {
      "cell_type": "code",
      "metadata": {
        "id": "KasBRIBWJULh"
      },
      "source": [
        "scheduler = get_cosine_schedule_with_warmup(optimizer, num_warmup_steps=warmup_step, num_training_steps=t_total)"
      ],
      "execution_count": 65,
      "outputs": []
    },
    {
      "cell_type": "code",
      "metadata": {
        "id": "ON4fMFSQJULh"
      },
      "source": [
        "def calc_accuracy(X,Y):\n",
        "    max_vals, max_indices = torch.max(X, 1)\n",
        "    train_acc = (max_indices == Y).sum().data.cpu().numpy()/max_indices.size()[0]\n",
        "    return train_acc"
      ],
      "execution_count": 66,
      "outputs": []
    },
    {
      "cell_type": "code",
      "metadata": {
        "id": "uaq7is6UJULh",
        "colab": {
          "base_uri": "https://localhost:8080/",
          "height": 1000,
          "referenced_widgets": [
            "21ad5527a3a94693b96b595067b5d7fd",
            "f54484bf4b204c9fad42f2675f293bd2",
            "034b950cf7c44195bed8552e8e491020",
            "ef171b16d9374612bd9be5800fbe57e1",
            "dc9002ffdbac437994a766f7afa69e22",
            "0333a02eeef34b17b23926f4b5fd699a",
            "180ffaca1f3746fcb0d72cc0242d4e31",
            "344d691210174046b18e9b56609ee191",
            "6850fc0fca27427ea9d00e8454ded99d",
            "7a24b76792364642a584d8560e53ff74",
            "7797cf27691f4e049b6087827661c805",
            "514203c548c148d09086abad6dfc8e1c",
            "8ede33ef7fbf439fbe6c2f0be8073be7",
            "acd2ccb313ba4cdb9e0b1bcdf61666c3",
            "786328c2100b4b92b15f4783f5ff776a",
            "d4fd334a62ff494c8e9002461d192bb5"
          ]
        },
        "outputId": "c5d675d7-7e46-4127-c493-3b552f32fde8"
      },
      "source": [
        "import pandas as pd\n",
        "for e in range(num_epochs):\n",
        "    train_acc = 0.0\n",
        "    test_acc = 0.0\n",
        "    model.train()\n",
        "    for batch_id, (token_ids, valid_length, segment_ids, label) in enumerate(tqdm_notebook(train_dataloader)):\n",
        "        optimizer.zero_grad()\n",
        "        token_ids = token_ids.long().to(device)\n",
        "        segment_ids = segment_ids.long().to(device)\n",
        "        valid_length= valid_length\n",
        "        label = label.long().to(device)\n",
        "        out = model(token_ids, valid_length, segment_ids)\n",
        "        loss = loss_fn(out, label)\n",
        "        loss.backward()\n",
        "        torch.nn.utils.clip_grad_norm_(model.parameters(), max_grad_norm)\n",
        "        optimizer.step()\n",
        "        scheduler.step()  # Update learning rate schedule\n",
        "        train_acc += calc_accuracy(out, label)\n",
        "        if batch_id % log_interval == 0:\n",
        "            print(\"epoch {} batch id {} loss {} train acc {}\".format(e+1, batch_id+1, loss.data.cpu().numpy(), train_acc / (batch_id+1)))\n",
        "    print(\"epoch {} train acc {}\".format(e+1, train_acc / (batch_id+1)))\n",
        "\n",
        "model.eval()\n",
        "test_eval=[]\n",
        "for batch_id, (token_ids, valid_length, segment_ids, label) in enumerate(tqdm_notebook(test_dataloader)):\n",
        "    token_ids = token_ids.long().to(device)\n",
        "    segment_ids = segment_ids.long().to(device)\n",
        "    valid_length= valid_length\n",
        "    label = label.long().to(device)\n",
        "    out = model(token_ids, valid_length, segment_ids)\n",
        "    test_acc += calc_accuracy(out, label)\n",
        "\n",
        "    \n",
        "    for i in out:\n",
        "        logits=i\n",
        "        logits = logits.detach().cpu().numpy()\n",
        "        test_eval.append(np.argmax(logits))\n",
        "\n",
        "print(\"test acc {}\".format(test_acc / (batch_id+1)))\n",
        "\n",
        "print(test_eval)\n",
        "result=pd.DataFrame(test_eval[1:])\n",
        "result['idx']=range(45654,45654+len(result))\n",
        "result.set_index('idx',inplace=True)\n",
        "result.to_csv('result.csv')\n",
        "display(result)\n",
        "print(len(result))\n",
        "\n"
      ],
      "execution_count": 67,
      "outputs": [
        {
          "output_type": "stream",
          "text": [
            "/usr/local/lib/python3.7/dist-packages/ipykernel_launcher.py:6: TqdmDeprecationWarning: This function will be removed in tqdm==5.0.0\n",
            "Please use `tqdm.notebook.tqdm` instead of `tqdm.tqdm_notebook`\n",
            "  \n"
          ],
          "name": "stderr"
        },
        {
          "output_type": "display_data",
          "data": {
            "application/vnd.jupyter.widget-view+json": {
              "model_id": "21ad5527a3a94693b96b595067b5d7fd",
              "version_minor": 0,
              "version_major": 2
            },
            "text/plain": [
              "HBox(children=(FloatProgress(value=0.0, max=4281.0), HTML(value='')))"
            ]
          },
          "metadata": {
            "tags": []
          }
        },
        {
          "output_type": "stream",
          "text": [
            "/usr/local/lib/python3.7/dist-packages/torch/utils/data/dataloader.py:481: UserWarning: This DataLoader will create 5 worker processes in total. Our suggested max number of worker in current system is 2, which is smaller than what this DataLoader is going to create. Please be aware that excessive worker creation might get DataLoader running slow or even freeze, lower the worker number to avoid potential slowness/freeze if necessary.\n",
            "  cpuset_checked))\n"
          ],
          "name": "stderr"
        },
        {
          "output_type": "stream",
          "text": [
            "epoch 1 batch id 1 loss 1.993249773979187 train acc 0.0625\n",
            "epoch 1 batch id 201 loss 0.539370059967041 train acc 0.5147699004975125\n",
            "epoch 1 batch id 401 loss 0.43082675337791443 train acc 0.6408977556109726\n",
            "epoch 1 batch id 601 loss 0.9087293148040771 train acc 0.7007591514143094\n",
            "epoch 1 batch id 801 loss 0.40997394919395447 train acc 0.7271379525593009\n",
            "epoch 1 batch id 1001 loss 0.16245143115520477 train acc 0.7453171828171828\n",
            "epoch 1 batch id 1201 loss 0.6660753488540649 train acc 0.755802456286428\n",
            "epoch 1 batch id 1401 loss 0.8314477205276489 train acc 0.7651677373304783\n",
            "epoch 1 batch id 1601 loss 0.7949634790420532 train acc 0.7725445034353529\n",
            "epoch 1 batch id 1801 loss 0.9483669400215149 train acc 0.7779705719044975\n",
            "epoch 1 batch id 2001 loss 0.6337947845458984 train acc 0.7823900549725138\n",
            "epoch 1 batch id 2201 loss 1.2445378303527832 train acc 0.7874545661063153\n",
            "epoch 1 batch id 2401 loss 0.327791303396225 train acc 0.7917924822990421\n",
            "epoch 1 batch id 2601 loss 0.24104684591293335 train acc 0.7976739715494041\n",
            "epoch 1 batch id 2801 loss 0.06843099743127823 train acc 0.8090748839700107\n",
            "epoch 1 batch id 3001 loss 0.011810348369181156 train acc 0.8192477507497501\n",
            "epoch 1 batch id 3201 loss 0.02323584258556366 train acc 0.8283641830677914\n",
            "epoch 1 batch id 3401 loss 0.013251998461782932 train acc 0.8363073360776242\n",
            "epoch 1 batch id 3601 loss 0.6848822236061096 train acc 0.837597195223549\n",
            "epoch 1 batch id 3801 loss 0.4006536900997162 train acc 0.8376825177584846\n",
            "epoch 1 batch id 4001 loss 0.38096871972084045 train acc 0.8384778805298675\n",
            "epoch 1 batch id 4201 loss 0.059510983526706696 train acc 0.8406778148059986\n",
            "\n",
            "epoch 1 train acc 0.8424506540527914\n"
          ],
          "name": "stdout"
        },
        {
          "output_type": "stream",
          "text": [
            "/usr/local/lib/python3.7/dist-packages/ipykernel_launcher.py:25: TqdmDeprecationWarning: This function will be removed in tqdm==5.0.0\n",
            "Please use `tqdm.notebook.tqdm` instead of `tqdm.tqdm_notebook`\n"
          ],
          "name": "stderr"
        },
        {
          "output_type": "display_data",
          "data": {
            "application/vnd.jupyter.widget-view+json": {
              "model_id": "6850fc0fca27427ea9d00e8454ded99d",
              "version_minor": 0,
              "version_major": 2
            },
            "text/plain": [
              "HBox(children=(FloatProgress(value=0.0, max=286.0), HTML(value='')))"
            ]
          },
          "metadata": {
            "tags": []
          }
        },
        {
          "output_type": "stream",
          "text": [
            "\n",
            "test acc 0.11745073108709474\n",
            "[0, 3, 2, 2, 3, 0, 5, 3, 4, 4, 4, 6, 4, 5, 6, 1, 6, 2, 4, 4, 4, 4, 0, 0, 0, 3, 6, 2, 5, 2, 3, 4, 4, 5, 4, 4, 5, 4, 6, 5, 5, 5, 5, 3, 0, 5, 3, 6, 1, 6, 0, 4, 6, 4, 5, 1, 4, 6, 3, 3, 4, 4, 4, 5, 3, 1, 5, 5, 2, 0, 3, 4, 3, 3, 1, 5, 1, 1, 1, 2, 6, 1, 5, 4, 6, 5, 4, 1, 6, 1, 5, 5, 4, 4, 4, 1, 6, 4, 1, 1, 5, 5, 4, 4, 5, 4, 3, 4, 0, 3, 2, 2, 2, 4, 3, 5, 3, 6, 2, 4, 5, 0, 6, 0, 2, 1, 5, 4, 0, 4, 0, 2, 6, 6, 4, 2, 6, 2, 1, 0, 5, 2, 3, 3, 4, 4, 1, 2, 3, 2, 6, 0, 1, 6, 4, 3, 5, 2, 2, 6, 1, 4, 3, 5, 5, 3, 4, 1, 1, 4, 1, 2, 2, 1, 3, 4, 2, 3, 6, 2, 5, 1, 5, 1, 5, 1, 2, 0, 3, 5, 2, 1, 0, 4, 2, 2, 6, 1, 3, 0, 1, 5, 4, 6, 5, 3, 5, 5, 5, 1, 1, 1, 3, 0, 1, 0, 4, 0, 6, 2, 4, 3, 5, 1, 0, 5, 0, 3, 4, 4, 6, 6, 3, 6, 4, 4, 5, 2, 2, 1, 5, 5, 1, 4, 0, 4, 5, 4, 6, 4, 4, 5, 1, 5, 5, 4, 5, 4, 2, 4, 5, 4, 0, 3, 3, 2, 0, 4, 5, 5, 4, 1, 0, 3, 6, 0, 3, 6, 5, 4, 6, 4, 4, 4, 4, 6, 3, 2, 3, 2, 2, 2, 5, 4, 5, 6, 4, 2, 2, 1, 6, 6, 0, 4, 6, 6, 3, 2, 2, 6, 5, 2, 5, 1, 0, 0, 3, 5, 2, 6, 5, 4, 1, 2, 2, 2, 1, 0, 4, 5, 0, 2, 4, 1, 6, 1, 0, 1, 4, 3, 3, 5, 1, 3, 3, 1, 4, 1, 4, 1, 1, 4, 4, 4, 0, 3, 5, 3, 2, 4, 2, 0, 4, 1, 4, 0, 0, 2, 6, 5, 0, 0, 6, 2, 6, 3, 2, 6, 5, 4, 4, 1, 0, 6, 2, 0, 0, 3, 5, 4, 3, 4, 0, 4, 4, 6, 5, 0, 6, 5, 4, 6, 3, 4, 5, 4, 4, 6, 0, 5, 5, 2, 5, 2, 4, 6, 5, 1, 5, 3, 5, 5, 4, 6, 6, 6, 6, 5, 4, 1, 6, 1, 4, 3, 5, 3, 5, 6, 6, 6, 0, 1, 5, 3, 6, 2, 3, 3, 3, 6, 1, 2, 1, 1, 4, 1, 5, 2, 2, 3, 5, 1, 3, 1, 1, 6, 1, 5, 6, 0, 1, 2, 3, 5, 5, 4, 5, 1, 0, 2, 5, 3, 1, 6, 6, 0, 4, 6, 2, 5, 4, 2, 2, 3, 1, 6, 6, 4, 6, 6, 4, 0, 5, 1, 2, 2, 0, 0, 0, 2, 1, 0, 6, 3, 6, 0, 1, 1, 6, 1, 4, 1, 1, 0, 6, 2, 6, 6, 2, 3, 1, 1, 1, 5, 4, 6, 0, 5, 6, 4, 1, 4, 6, 0, 4, 0, 1, 5, 6, 5, 6, 5, 1, 6, 1, 6, 6, 5, 3, 5, 1, 2, 6, 5, 0, 5, 2, 4, 1, 2, 4, 1, 6, 6, 1, 1, 2, 5, 4, 1, 4, 5, 3, 2, 3, 5, 6, 6, 5, 0, 3, 1, 4, 4, 6, 2, 4, 6, 4, 6, 0, 1, 5, 0, 4, 4, 4, 1, 2, 1, 2, 5, 0, 3, 6, 1, 1, 4, 4, 4, 6, 5, 6, 4, 1, 3, 4, 5, 0, 5, 6, 4, 6, 4, 5, 5, 4, 6, 2, 3, 6, 0, 2, 4, 4, 1, 3, 6, 1, 1, 4, 4, 1, 3, 5, 4, 0, 5, 5, 1, 0, 5, 2, 4, 0, 2, 2, 3, 4, 2, 0, 6, 2, 0, 6, 4, 2, 5, 4, 5, 2, 0, 5, 1, 6, 1, 4, 3, 0, 5, 4, 4, 5, 4, 2, 0, 4, 0, 5, 2, 3, 6, 5, 6, 6, 0, 0, 6, 4, 3, 2, 6, 3, 1, 3, 1, 0, 5, 5, 6, 6, 0, 4, 4, 1, 0, 6, 4, 6, 6, 4, 6, 6, 5, 2, 5, 0, 5, 6, 2, 0, 2, 4, 5, 5, 6, 6, 6, 0, 3, 3, 1, 0, 5, 5, 6, 6, 6, 4, 4, 4, 5, 0, 0, 3, 4, 4, 3, 1, 6, 3, 4, 1, 3, 6, 1, 3, 6, 1, 3, 4, 3, 6, 3, 3, 5, 5, 2, 4, 0, 4, 1, 1, 6, 6, 4, 2, 4, 6, 0, 4, 5, 4, 6, 6, 6, 1, 4, 5, 5, 5, 0, 3, 3, 2, 6, 3, 4, 2, 3, 5, 2, 1, 0, 6, 6, 2, 4, 2, 1, 0, 3, 5, 5, 0, 4, 4, 2, 0, 4, 6, 4, 3, 3, 5, 2, 5, 0, 6, 4, 6, 6, 2, 3, 4, 0, 4, 3, 1, 1, 2, 4, 2, 3, 1, 2, 4, 1, 1, 2, 3, 4, 0, 0, 4, 6, 0, 2, 3, 2, 1, 5, 1, 0, 6, 3, 0, 4, 0, 0, 3, 0, 2, 6, 1, 6, 2, 5, 4, 1, 0, 4, 4, 6, 5, 5, 1, 3, 6, 2, 6, 5, 2, 5, 6, 1, 4, 3, 0, 3, 0, 1, 2, 6, 0, 5, 5, 1, 5, 5, 6, 5, 6, 5, 0, 3, 4, 2, 0, 4, 3, 4, 4, 1, 4, 5, 6, 4, 3, 6, 0, 4, 4, 3, 4, 2, 2, 3, 4, 0, 6, 6, 0, 0, 0, 3, 1, 4, 6, 5, 4, 6, 5, 5, 3, 6, 6, 5, 6, 3, 6, 2, 3, 4, 2, 4, 5, 0, 1, 5, 1, 0, 6, 3, 4, 4, 1, 5, 6, 0, 2, 1, 0, 6, 2, 6, 6, 5, 5, 5, 0, 2, 5, 4, 4, 6, 1, 5, 3, 3, 5, 4, 4, 3, 4, 4, 6, 0, 6, 1, 5, 4, 5, 0, 1, 2, 5, 6, 4, 1, 0, 0, 6, 4, 2, 4, 5, 4, 4, 6, 0, 5, 6, 6, 5, 2, 2, 5, 5, 6, 2, 5, 0, 4, 6, 6, 3, 6, 6, 5, 5, 1, 5, 1, 6, 1, 3, 3, 5, 4, 4, 4, 4, 2, 2, 2, 6, 0, 6, 0, 2, 0, 2, 4, 4, 2, 6, 4, 3, 5, 1, 3, 4, 6, 6, 2, 3, 5, 6, 4, 5, 4, 0, 2, 6, 5, 4, 1, 6, 2, 6, 5, 5, 6, 4, 3, 6, 4, 4, 6, 5, 0, 2, 3, 4, 4, 0, 4, 4, 5, 4, 1, 6, 6, 4, 4, 1, 0, 1, 4, 3, 2, 6, 2, 5, 0, 6, 1, 3, 5, 6, 4, 5, 2, 4, 5, 4, 5, 1, 2, 4, 3, 4, 2, 4, 2, 5, 6, 5, 0, 6, 6, 4, 1, 5, 5, 4, 5, 6, 4, 5, 4, 3, 6, 1, 4, 6, 2, 1, 6, 5, 4, 1, 6, 3, 4, 4, 1, 6, 4, 1, 5, 2, 1, 6, 5, 0, 5, 6, 4, 0, 6, 2, 3, 5, 4, 4, 4, 1, 4, 3, 3, 5, 6, 1, 6, 2, 5, 4, 3, 2, 5, 2, 2, 4, 5, 5, 3, 6, 0, 2, 1, 1, 3, 1, 2, 6, 6, 6, 6, 5, 4, 3, 3, 5, 5, 6, 1, 1, 1, 6, 5, 3, 0, 2, 1, 4, 4, 0, 5, 0, 3, 5, 0, 4, 1, 4, 5, 3, 5, 3, 4, 1, 4, 3, 3, 3, 3, 4, 0, 2, 4, 1, 0, 4, 1, 5, 5, 0, 5, 0, 3, 4, 4, 4, 4, 5, 0, 0, 2, 0, 5, 2, 4, 4, 4, 6, 5, 1, 1, 5, 2, 4, 3, 1, 2, 1, 3, 3, 2, 2, 2, 5, 6, 4, 6, 2, 4, 4, 1, 1, 4, 6, 2, 5, 0, 2, 2, 5, 0, 4, 4, 0, 0, 1, 1, 4, 0, 0, 6, 0, 2, 0, 5, 6, 6, 4, 2, 0, 6, 6, 1, 5, 2, 4, 2, 0, 0, 1, 5, 0, 5, 2, 3, 5, 1, 2, 4, 5, 5, 4, 5, 4, 1, 4, 1, 5, 0, 4, 0, 1, 2, 0, 4, 6, 0, 4, 0, 6, 0, 6, 4, 5, 1, 6, 4, 4, 3, 6, 0, 5, 3, 6, 5, 3, 4, 4, 1, 1, 5, 3, 3, 3, 5, 1, 0, 1, 1, 1, 5, 1, 0, 2, 4, 0, 4, 6, 6, 6, 2, 5, 6, 2, 5, 0, 0, 4, 3, 3, 4, 5, 1, 4, 4, 4, 2, 4, 4, 6, 1, 4, 5, 3, 1, 6, 0, 1, 2, 5, 4, 4, 1, 4, 4, 6, 5, 4, 0, 1, 2, 4, 4, 1, 1, 0, 1, 4, 2, 6, 4, 1, 4, 5, 3, 3, 3, 1, 6, 4, 0, 3, 4, 6, 5, 6, 3, 5, 3, 6, 3, 4, 3, 6, 2, 5, 3, 3, 3, 6, 4, 2, 4, 4, 5, 4, 6, 1, 1, 5, 6, 6, 6, 5, 3, 6, 4, 4, 4, 5, 5, 4, 0, 2, 0, 4, 2, 4, 3, 5, 2, 6, 1, 2, 5, 3, 1, 4, 5, 0, 6, 6, 4, 1, 5, 0, 1, 0, 5, 5, 2, 6, 3, 0, 5, 5, 2, 6, 6, 1, 5, 2, 5, 6, 2, 5, 1, 6, 5, 4, 0, 1, 3, 0, 6, 1, 0, 5, 6, 1, 3, 1, 1, 2, 6, 0, 3, 2, 1, 2, 2, 4, 6, 6, 4, 4, 3, 2, 0, 2, 6, 0, 6, 0, 4, 0, 5, 6, 2, 5, 3, 0, 5, 6, 0, 5, 0, 1, 4, 5, 4, 4, 4, 5, 3, 6, 1, 1, 4, 1, 4, 0, 4, 0, 0, 5, 3, 2, 5, 0, 3, 0, 2, 1, 4, 4, 0, 1, 2, 6, 4, 4, 4, 5, 1, 3, 4, 5, 4, 2, 5, 4, 0, 6, 4, 0, 0, 5, 5, 2, 4, 3, 1, 1, 0, 6, 5, 5, 3, 4, 6, 3, 5, 2, 0, 1, 6, 6, 6, 2, 5, 1, 2, 0, 4, 3, 4, 5, 1, 0, 3, 4, 1, 0, 0, 1, 6, 0, 6, 2, 0, 1, 4, 1, 0, 6, 4, 5, 5, 3, 2, 4, 0, 0, 4, 6, 2, 3, 5, 6, 2, 2, 0, 5, 5, 4, 6, 6, 5, 4, 3, 1, 4, 5, 6, 5, 1, 6, 4, 1, 2, 6, 3, 3, 4, 5, 6, 4, 5, 1, 5, 4, 4, 6, 5, 6, 4, 1, 4, 6, 3, 4, 6, 4, 2, 6, 5, 4, 1, 0, 4, 2, 1, 6, 4, 2, 5, 6, 4, 3, 3, 3, 2, 5, 6, 6, 0, 3, 1, 6, 2, 5, 4, 4, 4, 5, 3, 2, 1, 0, 3, 5, 4, 4, 3, 5, 5, 4, 1, 3, 3, 5, 0, 5, 3, 5, 3, 1, 4, 1, 1, 4, 4, 5, 5, 5, 4, 4, 5, 1, 0, 5, 5, 2, 0, 4, 1, 4, 3, 0, 6, 5, 3, 6, 2, 4, 6, 4, 6, 0, 6, 1, 5, 2, 5, 3, 0, 6, 4, 0, 2, 6, 1, 2, 0, 6, 0, 3, 2, 4, 1, 0, 5, 6, 6, 6, 3, 5, 6, 5, 6, 5, 6, 6, 4, 2, 0, 2, 1, 1, 5, 2, 0, 2, 2, 6, 6, 2, 0, 2, 3, 4, 2, 0, 5, 6, 5, 1, 4, 4, 5, 0, 3, 0, 6, 6, 6, 4, 3, 4, 5, 6, 4, 6, 1, 2, 2, 1, 3, 2, 3, 5, 6, 5, 1, 4, 2, 2, 1, 2, 5, 4, 6, 5, 4, 0, 6, 5, 5, 4, 2, 1, 5, 0, 3, 4, 6, 2, 6, 0, 4, 5, 6, 5, 4, 0, 6, 2, 4, 0, 5, 2, 2, 6, 1, 1, 4, 4, 6, 2, 2, 4, 1, 4, 1, 2, 6, 6, 6, 6, 2, 6, 2, 5, 1, 4, 6, 2, 1, 6, 6, 4, 2, 0, 5, 0, 0, 4, 0, 6, 4, 0, 1, 1, 6, 4, 1, 4, 1, 3, 5, 5, 5, 5, 3, 4, 0, 3, 2, 4, 5, 6, 2, 5, 5, 2, 6, 6, 0, 5, 3, 1, 0, 5, 1, 6, 4, 2, 3, 4, 3, 5, 2, 4, 4, 3, 2, 6, 5, 3, 4, 6, 3, 4, 5, 2, 0, 2, 5, 1, 2, 6, 6, 4, 0, 5, 2, 2, 5, 0, 5, 4, 1, 3, 1, 5, 3, 0, 3, 4, 5, 2, 1, 6, 4, 5, 0, 6, 0, 5, 6, 5, 4, 5, 3, 0, 2, 6, 0, 4, 4, 5, 3, 4, 1, 0, 5, 5, 0, 5, 5, 5, 0, 4, 6, 3, 0, 5, 5, 5, 5, 2, 4, 3, 3, 3, 4, 6, 2, 2, 1, 2, 4, 5, 4, 3, 1, 2, 1, 2, 2, 1, 5, 4, 6, 1, 0, 4, 6, 4, 6, 3, 4, 1, 4, 4, 4, 1, 3, 2, 6, 4, 4, 6, 5, 1, 1, 6, 4, 1, 4, 4, 6, 4, 6, 4, 2, 6, 2, 4, 0, 6, 0, 0, 3, 4, 6, 1, 6, 4, 2, 3, 5, 5, 6, 1, 5, 4, 4, 4, 4, 4, 1, 0, 3, 2, 4, 1, 6, 4, 6, 2, 1, 5, 0, 0, 0, 5, 5, 3, 6, 5, 6, 2, 1, 4, 4, 4, 1, 6, 2, 0, 1, 3, 4, 6, 1, 3, 0, 0, 5, 2, 5, 6, 3, 0, 5, 4, 2, 0, 5, 1, 5, 5, 4, 4, 4, 2, 6, 4, 0, 1, 6, 5, 2, 2, 6, 5, 1, 3, 3, 5, 0, 3, 1, 6, 2, 0, 6, 6, 6, 4, 2, 4, 1, 6, 5, 1, 6, 2, 6, 1, 4, 6, 3, 4, 5, 4, 2, 2, 6, 4, 1, 1, 6, 0, 4, 4, 4, 2, 5, 1, 4, 4, 1, 3, 5, 6, 0, 1, 3, 5, 5, 6, 4, 3, 1, 2, 4, 5, 6, 0, 3, 0, 5, 4, 4, 4, 2, 4, 1, 0, 4, 6, 2, 6, 1, 4, 3, 6, 6, 6, 4, 1, 1, 5, 4, 2, 1, 1, 4, 4, 4, 2, 6, 0, 2, 4, 3, 4, 2, 1, 0, 1, 5, 6, 4, 5, 1, 3, 1, 2, 6, 6, 4, 6, 5, 4, 5, 5, 3, 1, 0, 5, 5, 2, 6, 4, 0, 6, 1, 4, 0, 2, 4, 4, 5, 6, 3, 4, 3, 5, 3, 6, 4, 1, 4, 5, 4, 4, 1, 5, 4, 5, 6, 5, 1, 6, 4, 3, 5, 4, 6, 0, 3, 4, 5, 1, 2, 5, 3, 1, 4, 6, 0, 1, 1, 5, 3, 4, 2, 4, 5, 1, 2, 0, 1, 6, 4, 1, 0, 6, 4, 2, 5, 5, 3, 0, 1, 6, 4, 1, 1, 4, 4, 4, 5, 1, 1, 6, 3, 2, 0, 1, 6, 6, 0, 3, 5, 5, 3, 1, 0, 4, 2, 3, 4, 0, 4, 5, 6, 1, 5, 3, 2, 4, 4, 6, 1, 1, 4, 6, 3, 4, 0, 5, 1, 5, 3, 0, 0, 5, 6, 5, 6, 6, 3, 4, 4, 3, 2, 3, 4, 5, 4, 3, 1, 2, 6, 2, 2, 4, 0, 2, 4, 6, 5, 5, 4, 1, 0, 5, 0, 0, 6, 4, 1, 0, 0, 2, 3, 1, 0, 6, 1, 2, 2, 4, 6, 3, 6, 1, 6, 4, 5, 6, 4, 3, 3, 6, 5, 2, 0, 4, 5, 3, 2, 5, 6, 5, 2, 4, 2, 5, 4, 4, 3, 3, 5, 4, 0, 4, 5, 1, 4, 4, 2, 4, 3, 5, 4, 5, 1, 4, 5, 1, 0, 0, 0, 6, 4, 0, 6, 1, 0, 0, 4, 0, 6, 6, 2, 5, 2, 5, 2, 4, 4, 0, 6, 1, 2, 4, 4, 6, 5, 3, 0, 3, 5, 4, 5, 4, 3, 1, 5, 0, 2, 2, 5, 4, 2, 0, 4, 4, 3, 6, 5, 4, 4, 2, 4, 1, 0, 5, 4, 5, 4, 1, 2, 4, 6, 3, 4, 4, 0, 5, 6, 6, 5, 1, 1, 4, 5, 1, 3, 4, 1, 3, 5, 4, 2, 4, 1, 0, 4, 3, 0, 2, 3, 6, 1, 1, 1, 4, 6, 4, 4, 4, 6, 3, 4, 4, 6, 6, 3, 5, 6, 1, 0, 5, 4, 4, 2, 3, 2, 4, 3, 4, 1, 6, 3, 2, 5, 4, 4, 4, 6, 0, 4, 0, 1, 5, 5, 6, 5, 4, 3, 2, 1, 6, 1, 6, 3, 6, 1, 4, 1, 3, 1, 4, 4, 6, 1, 1, 3, 4, 3, 4, 3, 2, 1, 1, 4, 1, 1, 4, 3, 1, 5, 4, 4, 5, 1, 2, 4, 6, 4, 5, 4, 2, 0, 6, 1, 2, 3, 2, 3, 6, 3, 1, 3, 4, 6, 5, 1, 0, 2, 3, 3, 6, 4, 6, 5, 4, 0, 2, 5, 3, 5, 4, 3, 4, 6, 2, 6, 5, 6, 5, 3, 6, 0, 5, 1, 4, 6, 5, 5, 1, 0, 2, 0, 1, 0, 3, 4, 2, 0, 5, 4, 1, 2, 6, 1, 1, 4, 5, 5, 4, 5, 3, 2, 5, 6, 6, 5, 2, 5, 4, 3, 6, 6, 5, 3, 2, 0, 5, 5, 6, 2, 3, 4, 0, 6, 6, 5, 6, 4, 1, 4, 1, 4, 0, 5, 3, 4, 3, 5, 5, 0, 3, 6, 5, 5, 5, 6, 5, 5, 5, 6, 2, 1, 1, 2, 2, 3, 1, 0, 0, 6, 5, 2, 1, 6, 1, 6, 0, 3, 6, 1, 4, 6, 3, 0, 6, 2, 2, 3, 5, 4, 0, 6, 5, 6, 4, 3, 6, 3, 3, 1, 4, 4, 0, 4, 6, 5, 0, 4, 2, 5, 0, 4, 0, 1, 6, 1, 4, 4, 1, 5, 4, 5, 4, 0, 2, 1, 2, 0, 2, 3, 4, 2, 0, 6, 3, 5, 4, 1, 3, 1, 0, 1, 5, 5, 5, 6, 3, 0, 3, 6, 1, 6, 5, 4, 5, 4, 1, 5, 2, 0, 2, 3, 4, 2, 6, 1, 5, 5, 6, 3, 4, 5, 2, 5, 0, 4, 1, 3, 4, 2, 2, 1, 4, 6, 1, 5, 3, 2, 4, 5, 1, 2, 5, 4, 6, 3, 3, 0, 6, 4, 5, 5, 3, 4, 6, 1, 1, 2, 5, 2, 4, 4, 4, 2, 0, 6, 3, 6, 5, 0, 4, 0, 6, 2, 2, 6, 5, 3, 1, 2, 4, 6, 4, 6, 3, 2, 2, 4, 3, 4, 4, 2, 4, 5, 0, 0, 2, 0, 6, 6, 3, 4, 5, 3, 6, 4, 4, 6, 6, 3, 4, 0, 2, 5, 2, 1, 0, 4, 0, 0, 4, 6, 3, 0, 4, 0, 5, 6, 5, 3, 3, 3, 0, 2, 4, 4, 4, 6, 4, 6, 3, 6, 3, 2, 4, 6, 5, 0, 6, 1, 0, 0, 1, 6, 1, 2, 4, 2, 4, 5, 1, 3, 1, 4, 2, 2, 5, 5, 1, 5, 1, 5, 5, 5, 3, 6, 2, 0, 6, 6, 1, 4, 0, 0, 3, 4, 4, 3, 3, 2, 3, 5, 3, 5, 2, 1, 1, 6, 0, 3, 2, 4, 2, 3, 4, 0, 0, 3, 5, 6, 4, 0, 6, 0, 2, 6, 4, 4, 0, 4, 6, 5, 1, 0, 4, 1, 0, 3, 3, 6, 5, 4, 3, 0, 3, 5, 0, 2, 2, 4, 1, 3, 4, 6, 1, 1, 1, 4, 3, 5, 2, 3, 2, 4, 4, 2, 6, 2, 4, 5, 4, 5, 3, 4, 5, 6, 3, 6, 6, 2, 1, 5, 5, 0, 6, 3, 2, 4, 3, 1, 5, 3, 4, 2, 1, 6, 4, 6, 3, 4, 5, 1, 3, 2, 6, 3, 0, 5, 6, 6, 2, 0, 0, 5, 0, 4, 5, 0, 4, 4, 5, 3, 0, 6, 6, 2, 2, 3, 5, 5, 6, 3, 4, 6, 4, 3, 4, 6, 5, 6, 3, 1, 6, 6, 6, 5, 3, 0, 4, 2, 3, 2, 4, 3, 4, 4, 3, 3, 5, 1, 6, 1, 6, 0, 2, 1, 0, 3, 5, 4, 6, 3, 5, 0, 1, 6, 3, 6, 4, 4, 2, 5, 6, 5, 0, 3, 6, 4, 3, 4, 4, 3, 2, 1, 2, 6, 4, 5, 4, 0, 6, 2, 5, 4, 4, 5, 3, 0, 1, 2, 5, 3, 4, 0, 0, 4, 4, 1, 0, 1, 0, 4, 0, 5, 4, 5, 3, 1, 6, 5, 1, 0, 2, 3, 6, 2, 6, 0, 5, 6, 3, 6, 3, 0, 5, 5, 6, 4, 2, 4, 5, 0, 4, 6, 6, 4, 5, 0, 3, 4, 0, 6, 5, 6, 0, 2, 1, 6, 5, 2, 4, 3, 4, 0, 1, 6, 3, 6, 5, 4, 5, 3, 6, 3, 6, 4, 5, 0, 1, 2, 6, 2, 6, 3, 3, 4, 4, 2, 1, 4, 4, 3, 5, 5, 0, 2, 6, 4, 5, 1, 1, 0, 2, 5, 3, 6, 5, 1, 1, 4, 6, 5, 4, 5, 1, 6, 2, 1, 1, 2, 3, 4, 6, 4, 1, 0, 5, 5, 5, 4, 4, 5, 2, 4, 6, 4, 6, 1, 6, 3, 1, 5, 6, 3, 4, 1, 1, 1, 4, 6, 6, 2, 0, 1, 5, 4, 6, 5, 3, 5, 5, 1, 1, 0, 4, 4, 4, 5, 3, 2, 5, 4, 6, 5, 0, 0, 1, 6, 2, 4, 4, 5, 3, 5, 0, 1, 1, 0, 3, 0, 6, 5, 2, 2, 4, 4, 1, 6, 4, 6, 2, 6, 5, 0, 3, 5, 5, 3, 3, 4, 3, 6, 1, 4, 4, 4, 6, 2, 4, 1, 4, 0, 5, 6, 2, 2, 1, 4, 1, 2, 3, 2, 2, 1, 4, 5, 3, 3, 5, 4, 4, 0, 2, 2, 1, 2, 5, 0, 4, 4, 5, 1, 0, 3, 2, 1, 4, 3, 3, 2, 6, 4, 5, 4, 6, 3, 6, 5, 5, 4, 5, 4, 0, 4, 3, 1, 4, 0, 5, 6, 5, 5, 1, 5, 4, 2, 2, 6, 1, 6, 5, 4, 0, 0, 5, 4, 4, 2, 6, 6, 1, 4, 6, 5, 5, 3, 4, 1, 5, 4, 4, 1, 5, 5, 5, 5, 3, 4, 5, 4, 6, 6, 4, 1, 6, 5, 5, 6, 3, 6, 1, 4, 4, 6, 6, 2, 2, 6, 5, 1, 6, 4, 2, 1, 1, 3, 5, 6, 5, 4, 1, 5, 1, 5, 5, 0, 0, 0, 4, 1, 4, 5, 2, 6, 4, 0, 6, 6, 0, 3, 5, 4, 4, 5, 5, 4, 6, 6, 5, 6, 2, 2, 5, 5, 1, 2, 1, 3, 4, 5, 0, 0, 6, 1, 3, 4, 4, 2, 2, 1, 1, 3, 4, 6, 3, 0, 4, 4, 2, 3, 4, 4, 6, 6, 4, 6, 0, 2, 5, 4, 5, 5, 1, 4, 3, 2, 1, 2, 3, 4, 3, 6, 6, 4, 2, 5, 2, 5, 1, 4, 4, 4, 2, 4, 4, 4, 5, 6, 3, 4, 0, 1, 1, 3, 1, 4, 4, 3, 4, 6, 1, 4, 0, 6, 3, 4, 5, 0, 3, 1, 5, 5, 2, 3, 3, 3, 3, 1, 2, 1, 0, 4, 5, 2, 5, 1, 5, 0, 5, 5, 1, 1, 4, 4, 2, 2, 3, 0, 3, 4, 0, 3, 5, 6, 3, 4, 0, 5, 3, 0, 4, 6, 0, 6, 4, 1, 0, 5, 5, 3, 6, 6, 0, 1, 5, 4, 4, 5, 4, 0, 6, 4, 5, 4, 6, 6, 4, 1, 6, 4, 5, 5, 3, 1, 5, 0, 6, 5, 0, 2, 5, 1, 3, 1, 3, 4, 1, 0, 1, 4, 5, 0, 1, 0, 6, 5, 4, 4, 4, 5, 4, 0, 1, 0, 6, 6, 2, 4, 1, 1, 0, 4, 4, 0, 4, 4, 4, 3, 4, 2, 6, 6, 3, 5, 2, 1, 2, 0, 5, 6, 1, 0, 5, 6, 0, 4, 1, 4, 3, 3, 2, 6, 4, 6, 4, 4, 6, 3, 6, 1, 6, 5, 0, 2, 5, 4, 4, 2, 4, 0, 1, 1, 5, 3, 6, 5, 6, 5, 4, 3, 5, 0, 0, 0, 6, 6, 6, 0, 3, 1, 6, 5, 1, 3, 3, 1, 4, 4, 5, 5, 1, 0, 4, 2, 4, 6, 3, 1, 3, 5, 5, 0, 6, 2, 4, 2, 2, 3, 6, 2, 2, 3, 4, 6, 3, 6, 2, 5, 0, 3, 3, 3, 4, 0, 4, 0, 4, 5, 6, 0, 5, 2, 2, 4, 4, 1, 4, 5, 6, 1, 0, 4, 1, 0, 3, 5, 3, 1, 4, 1, 0, 1, 4, 3, 4, 3, 1, 4, 3, 0, 5, 4, 6, 6, 2, 4, 6, 2, 6, 4, 4, 5, 1, 3, 1, 3, 3, 6, 6, 0, 0, 4, 1, 6, 5, 1, 5, 4, 1, 0, 0, 4, 1, 3, 4, 5, 0, 2, 1, 4, 2, 3, 6, 5, 2, 4, 6, 1, 5, 2, 4, 4, 6, 6, 6, 6, 3, 1, 6, 0, 4, 2, 5, 5, 6, 5, 5, 6, 6, 1, 0, 4, 3, 6, 5, 5, 1, 4, 2, 2, 4, 4, 6, 5, 2, 3, 6, 2, 4, 0, 4, 4, 1, 1, 4, 3, 3, 3, 5, 0, 4, 6, 6, 5, 1, 3, 3, 6, 6, 4, 1, 0, 5, 3, 4, 2, 6, 1, 4, 2, 6, 6, 0, 2, 5, 5, 4, 1, 4, 2, 0, 6, 3, 1, 1, 0, 4, 1, 5, 3, 1, 4, 1, 6, 4, 3, 6, 6, 0, 1, 6, 4, 1, 2, 6, 0, 5, 5, 1, 0, 0, 6, 0, 6, 6, 5, 3, 2, 2, 0, 3, 1, 2, 5, 3, 4, 1, 5, 5, 2, 5, 3, 5, 4, 2, 3, 4, 5, 1, 5, 2, 5, 5, 6, 6, 2, 2, 4, 4, 1, 3, 2, 4, 4, 4, 0, 6, 4, 6, 6, 5, 1, 1, 6, 1, 1, 4, 4, 4, 3, 2, 6, 0, 2, 4, 2, 1, 5, 6, 5, 4, 1, 1, 4, 1, 1, 6, 3, 4, 4, 1, 6, 4, 1, 4, 0, 2, 3, 1, 6, 5, 6, 3, 5, 4, 3, 4, 4, 4, 2, 4, 4, 6, 4, 5, 4, 3, 1, 3, 5, 2, 1, 5, 5, 5, 5, 0, 5, 5, 1, 1, 4, 6, 5, 2, 6, 3, 4, 4, 5, 5, 4, 2, 5, 5, 4, 4, 4, 0, 5, 6, 2, 3, 0, 1, 4, 2, 3, 0, 5, 1, 6, 6, 2, 3, 4, 2, 1, 1, 2, 4, 1, 2, 5, 6, 2, 3, 5, 6, 4, 5, 1, 4, 5, 1, 5, 2, 0, 6, 2, 2, 6, 1, 6, 1, 1, 1, 1, 4, 4, 3, 5, 5, 5, 1, 5, 5, 0, 4, 4, 4, 5, 1, 2, 4, 5, 6, 3, 2, 6, 2, 3, 3, 5, 2, 5, 6, 2, 4, 6, 2, 6, 2, 3, 3, 0, 2, 6, 6, 4, 4, 4, 4, 4, 6, 0, 4, 1, 5, 2, 4, 0, 6, 4, 3, 5, 1, 0, 2, 6, 1, 0, 5, 0, 5, 6, 4, 5, 4, 6, 0, 6, 4, 0, 1, 6, 5, 0, 4, 0, 2, 3, 2, 1, 4, 6, 5, 6, 4, 0, 0, 6, 5, 5, 6, 2, 5, 6, 3, 1, 5, 5, 5, 1, 3, 6, 5, 2, 4, 6, 0, 4, 3, 2, 0, 0, 5, 0, 0, 4, 0, 6, 5, 5, 3, 3, 3, 1, 6, 1, 5, 0, 6, 5, 3, 0, 4, 5, 1, 0, 5, 4, 5, 1, 0, 4, 5, 3, 4, 1, 5, 6, 5, 6, 5, 0, 0, 1, 4, 3, 5, 4, 4, 1, 1, 2, 1, 4, 3, 0, 0, 6, 4, 1, 4, 0, 4, 5, 4, 6, 4, 4, 2, 1, 6, 3, 0, 6, 6, 3, 4, 3, 3, 6, 2, 0, 4, 0, 0, 4, 6, 4, 3, 6, 0, 6, 4, 1, 3, 1, 6, 1, 4, 5, 2, 0, 0, 6, 5, 4, 0, 5, 6, 6, 4, 2, 4, 0, 0, 0, 1, 5, 5, 5, 4, 2, 1, 2, 4, 3, 5, 0, 5, 4, 0, 0, 6, 3, 4, 4, 1, 1, 5, 3, 5, 4, 4, 6, 3, 4, 4, 2, 5, 4, 5, 0, 1, 4, 4, 4, 5, 2, 6, 5, 4, 6, 4, 5, 4, 1, 4, 3, 6, 3, 4, 5, 0, 0, 6, 1, 1, 3, 4, 2, 0, 4, 6, 6, 6, 3, 5, 3, 4, 0, 3, 5, 6, 4, 5, 2, 3, 0, 2, 4, 1, 0, 4, 5, 4, 6, 1, 6, 0, 3, 2, 3, 1, 5, 5, 6, 3, 0, 6, 2, 1, 0, 3, 4, 2, 1, 6, 1, 6, 5, 2, 1, 6, 2, 6, 4, 0, 4, 5, 0, 2, 4, 3, 4, 5, 1, 1, 6, 3, 5, 4, 4, 3, 5, 6, 4, 0, 0, 4, 5, 6, 4, 5, 3, 5, 0, 4, 0, 4, 1, 0, 5, 6, 6, 5, 3, 2, 5, 4, 6, 1, 5, 3, 0, 6, 1, 4, 4, 0, 3, 2, 5, 3, 6, 0, 5, 2, 6, 4, 5, 6, 0, 3, 0, 6, 6, 5, 6, 1, 1, 3, 4, 0, 0, 4, 6, 4, 0, 1, 4, 5, 4, 0, 4, 5, 0, 5, 0, 1, 3, 4, 1, 4, 3, 6, 5, 6, 0, 5, 5, 2, 5, 0, 4, 6, 6, 2, 4, 2, 4, 6, 0, 6, 2, 5, 2, 5, 6, 1, 4, 4, 5, 6, 6, 4, 1, 6, 4, 6, 6, 6, 2, 2, 5, 4, 6, 6, 3, 0, 6, 6, 5, 3, 5, 1, 5, 4, 5, 5, 1, 5, 3, 0, 0, 5, 6, 5, 3, 0, 3, 1, 5, 2, 4, 3, 3, 6, 3, 1, 4, 1, 2, 3, 4, 1, 1, 3, 6, 4, 0, 1, 5, 5, 1, 1, 6, 4, 5, 2, 4, 0, 5, 4, 6, 3, 4, 2, 1, 4, 2, 6, 4, 4, 1, 0, 1, 2, 5, 1, 6, 4, 1, 6, 2, 6, 0, 6, 1, 6, 3, 3, 0, 4, 5, 4, 5, 5, 4, 1, 4, 5, 4, 0, 1, 0, 2, 3, 4, 3, 1, 6, 4, 4, 2, 0, 5, 5, 6, 4, 2, 0, 1, 1, 6, 5, 4, 1, 4, 6, 1, 1, 4, 6, 4, 4, 0, 6, 5, 4, 4, 6, 4, 6, 4, 4, 2, 6, 2, 3, 4, 5, 4, 2, 1, 2, 6, 5, 4, 4, 6, 3, 3, 6, 2, 5, 4, 2, 5, 6, 6, 4, 0, 1, 3, 4, 5, 2, 1, 5, 2, 6, 5, 5, 6, 3, 4, 6, 6, 0, 6, 0, 5, 4, 2, 6, 0, 3, 4, 2, 6, 6, 0, 3, 6, 6, 5, 3, 4, 6, 2, 5, 0, 1, 5, 5, 5, 1, 4, 1, 4, 3, 2, 6, 1, 0, 5, 4, 1, 4, 4, 3, 0, 5, 2, 5, 4, 1, 0, 2, 5, 2, 0, 5, 5, 4, 2, 4, 3, 3, 3, 5, 0, 3, 3, 5, 6, 6, 5, 2, 5, 5, 5, 6, 1, 3, 5, 5, 3, 3, 4, 3, 5, 2, 5, 1, 4, 3, 4, 5, 6, 2, 6, 5, 3, 4, 4, 6, 6, 1, 5, 3, 4, 3, 2, 2, 6, 1, 2, 4, 5, 0, 5, 4, 1, 5, 4, 5, 3, 6, 0, 0, 3, 2, 2, 6, 2, 6, 4, 5, 4, 6, 1, 3, 6, 5, 4, 5, 0, 4, 6, 2, 1, 6, 0, 1, 6, 4, 4, 3, 2, 4, 6, 6, 2, 4, 3, 6, 1, 6, 2, 6, 3, 5, 3, 4, 3, 6, 4, 6, 5, 5, 5, 5, 4, 4, 6, 3, 3, 6, 4, 5, 2, 5, 0, 5, 2, 2, 0, 5, 6, 6, 4, 3, 4, 0, 1, 0, 0, 2, 6, 0, 6, 1, 3, 2, 3, 6, 6, 4, 4, 2, 0, 0, 2, 5, 6, 5, 2, 0, 6, 5, 4, 3, 3, 1, 6, 1, 6, 5, 2, 5, 0, 2, 4, 5, 1, 5, 3, 2, 0, 5, 6, 2, 0, 5, 5, 4, 6, 6, 0, 6, 5, 1, 4, 6, 4, 1, 0, 0, 2, 3, 5, 6, 6, 0, 5, 6, 0, 1, 0, 5, 5, 4, 4, 1, 5, 2, 4, 4, 0, 3, 5, 3, 4, 5, 1, 0, 1, 5, 1, 4, 6, 6, 2, 1, 3, 6, 4, 6, 4, 1, 6, 3, 0, 2, 2, 6, 6, 2, 2, 0, 5, 4, 5, 6, 0, 5, 4, 4, 5, 0, 2, 0, 4, 5, 5, 1, 6, 3, 5, 4, 6, 5, 6, 6, 6, 5, 4, 6, 3, 4, 5, 5, 3, 3, 1, 5, 4, 1, 0, 3, 0, 4, 4, 3, 6, 0, 0, 5, 0, 0, 4, 6, 2, 4, 1, 3, 5, 4, 1, 4, 4, 2, 3, 6, 1, 2, 0, 1, 5, 2, 5, 3, 1, 4, 2, 4, 3, 3, 4, 6, 6, 3, 2, 0, 3, 1, 6, 0, 6, 2, 1, 6, 0, 6, 0, 0, 1, 3, 3, 4, 6, 4, 4, 0, 4, 5, 1, 5, 1, 5, 5, 0, 5, 6, 4, 6, 2, 6, 4, 5, 6, 2, 3, 4, 6, 5, 3, 0, 2, 3, 3, 0, 0, 1, 2, 1, 3, 6, 6, 0, 6, 5, 0, 0, 6, 1, 6, 4, 6, 4, 2, 5, 0, 6, 6, 3, 2, 6, 4, 2, 3, 2, 4, 4, 0, 4, 5, 4, 1, 2, 4, 6, 4, 0, 6, 6, 4, 1, 0, 5, 4, 2, 6, 4, 0, 0, 3, 5, 5, 6, 4, 0, 0, 6, 3, 4, 1, 2, 4, 3, 0, 6, 0, 0, 0, 6, 4, 6, 1, 2, 1, 4, 3, 3, 3, 3, 2, 1, 4, 3, 3, 1, 4, 4, 6, 2, 5, 3, 4, 0, 1, 5, 4, 5, 5, 4, 3, 3, 4, 5, 4, 6, 1, 6, 3, 1, 0, 5, 6, 4, 4, 5, 5, 5, 5, 1, 5, 1, 5, 4, 4, 4, 2, 4, 6, 2, 6, 3, 5, 1, 0, 5, 6, 4, 4, 0, 6, 0, 1, 5, 4, 6, 4, 4, 4, 5, 5, 4, 3, 4, 3, 5, 6, 6, 6, 0, 3, 4, 5, 1, 1, 1, 0, 2, 2, 0, 5, 4, 4, 1, 3, 6, 1, 4, 3, 6, 2, 5, 3, 0, 3, 5, 6, 4, 3, 3, 2, 3, 5, 1, 3, 4, 6, 3, 4, 4, 2, 4, 2, 4, 4, 4, 5, 3, 4, 6, 4, 3, 3, 6, 5, 0, 0, 1, 6, 5, 0, 4, 6, 1, 2, 4, 5, 4, 4, 1, 2, 0, 2, 5, 5, 4, 3, 2, 6, 0, 0, 6, 4, 1, 6, 6, 5, 1, 5, 4, 3, 1, 0, 5, 4, 4, 5, 3, 3, 1, 0, 5, 0, 6, 4, 6, 0, 4, 3, 4, 4, 5, 2, 0, 5, 4, 5, 6, 5, 2, 3, 4, 1, 4, 1, 2, 3, 6, 5, 0, 6, 4, 1, 5, 0, 6, 5, 5, 5, 6, 3, 1, 2, 5, 5, 6, 4, 2, 5, 4, 1, 5, 6, 0, 3, 4, 3, 0, 2, 2, 2, 0, 3, 1, 6, 5, 4, 1, 5, 4, 0, 4, 4, 4, 6, 3, 1, 6, 1, 0, 4, 2, 3, 0, 5, 0, 6, 6, 3, 4, 6, 1, 2, 4, 4, 5, 1, 5, 4, 4, 5, 6, 6, 0, 2, 3, 4, 4, 4, 6, 6, 3, 5, 6, 5, 1, 2, 0, 1, 6, 4, 4, 5, 5, 2, 5, 3, 2, 3, 1, 4, 1, 4, 5, 0, 6, 4, 2, 0, 4, 3, 0, 5, 1, 4, 0, 0, 4, 2, 5, 3, 4, 6, 5, 4, 6, 0, 6, 1, 4, 2, 2, 2, 1, 5, 5, 4, 4, 6, 4, 3, 1, 5, 4, 5, 4, 3, 4, 5, 5, 4, 6, 6, 5, 0, 0, 4, 3, 6, 3, 6, 5, 4, 5, 5, 3, 4, 1, 5, 1, 0, 4, 2, 1, 6, 6, 3, 1, 1, 3, 6, 4, 6, 6, 2, 6, 0, 3, 6, 6, 6, 0, 3, 4, 3, 5, 0, 5, 4, 6, 3, 6, 2, 3, 0, 6, 3, 3, 2, 0, 0, 1, 1, 0, 0, 0, 4, 2, 3, 5, 5, 6, 1, 6, 3, 3, 2, 5, 0, 3, 6, 0, 5, 5, 1, 2, 6, 4, 6, 5, 2, 1, 5, 4, 0, 6, 2, 3, 6, 6, 0, 4, 1, 4, 5, 2, 5, 3, 6, 2, 1, 6, 4, 1, 1, 4, 6, 5, 0, 0, 4, 0, 6, 1, 5, 2, 6, 6, 3, 5, 5, 5, 5, 1, 6, 4, 4, 3, 2, 6, 1, 4, 6, 2, 1, 4, 6, 6, 6, 4, 4, 6, 3, 5, 5, 1, 1, 1, 5, 2, 6, 5, 5, 0, 4, 4, 4, 3, 5, 4, 5, 4, 2, 2, 2, 4, 2, 4, 0, 4, 3, 2, 2, 1, 2, 5, 0, 4, 4, 5, 0, 6, 0, 2, 3, 2, 1, 1, 3, 4, 4, 4, 4, 4, 4, 5, 1, 5, 5, 4, 6, 5, 4, 5, 6, 1, 6, 4, 0, 4, 6, 4, 5, 6, 1, 0, 3, 4, 4, 5, 5, 0, 6, 4, 4, 4, 4, 3, 5, 4, 4, 1, 3, 6, 5, 1, 5, 4, 5, 4, 4, 4, 1, 4, 6, 4, 5, 1, 1, 0, 4, 5, 5, 5, 6, 6, 3, 1, 6, 2, 4, 5, 4, 6, 6, 5, 6, 2, 0, 6, 2, 4, 1, 2, 4, 4, 0, 1, 3, 6, 5, 3, 4, 2, 6, 4, 5, 2, 0, 1, 5, 1, 6, 6, 6, 1, 1, 2, 0, 6, 6, 4, 2, 3, 3, 6, 5, 2, 2, 0, 0, 2, 4, 4, 1, 6, 4, 1, 2, 0, 6, 6, 4, 5, 0, 4, 4, 2, 2, 4, 6, 0, 6, 6, 6, 5, 6, 5, 6, 0, 3, 5, 4, 2, 2, 4, 4, 4, 5, 3, 0, 2, 5, 0, 5, 3, 0, 0, 2, 4, 4, 2, 5, 6, 4, 2, 3, 0, 3, 6, 1, 4, 6, 6, 2, 6, 5, 4, 0, 4, 0, 0, 0, 4, 2, 2, 5, 5, 4, 1, 2, 6, 0, 4, 5, 4, 4, 5, 4, 4, 3, 4, 6, 6, 4, 1, 2, 5, 5, 6, 1, 6, 4, 4, 4, 6, 6, 1, 4, 6, 2, 2, 0, 2, 1, 5, 4, 6, 3, 4, 1, 2, 5, 3, 5, 2, 3, 6, 6, 6, 3, 4, 4, 4, 0, 1, 3, 6, 3, 1, 4, 0, 0, 0, 0, 2, 4, 4, 3, 0, 5, 4, 4, 4, 4, 5, 6, 3, 4, 6, 2, 4, 0, 3, 3, 2, 0, 2, 1, 0, 0, 0, 6, 4, 2, 5, 5, 2, 5, 4, 0, 1, 3, 1, 0, 5, 6, 0, 0, 5, 6, 4, 2, 3, 2, 6, 5, 0, 6, 6, 4, 2, 3, 3, 0, 1, 4, 3, 3, 5, 5, 2, 4, 2, 2, 5, 0, 1, 0, 6, 4, 6, 6, 4, 4, 4, 6, 3, 6, 1, 4, 4, 1, 4, 6, 3, 5, 1, 4, 6, 2, 2, 5, 6, 0, 5, 4, 4, 1, 3, 0, 6, 4, 4, 4, 2, 2, 5, 0, 5, 4, 2, 1, 6, 1, 2, 5, 1, 1, 4, 0, 5, 0, 5, 2, 4, 0, 4, 3, 4, 5, 1, 3, 3, 2, 1, 4, 2, 4, 1, 3, 6, 4, 2, 6, 6, 0, 1, 3, 1, 5, 6, 5, 6, 0, 4, 0, 2, 1, 6, 6, 5, 0, 4, 5, 6, 4, 1, 4, 6, 4, 5, 5, 1, 0, 4, 4, 4, 3, 1, 5, 4, 6, 1, 3, 0, 4, 1, 5, 0, 4, 0, 6, 4, 3, 5, 1, 1, 4, 6, 4, 1, 4, 3, 2, 4, 3, 4, 6, 0, 5, 1, 2, 6, 3, 5, 3, 3, 3, 1, 5, 2, 5, 3, 6, 4, 1, 3, 5, 2, 4, 0, 2, 5, 0, 2, 2, 3, 2, 1, 2, 4, 1, 2, 5, 1, 4, 4, 6, 6, 3, 5, 5, 2, 6, 2, 4, 0, 1, 1, 1, 0, 6, 3, 1, 4, 6, 1, 4, 5, 3, 1, 5, 5, 3, 1, 4, 3, 6, 4, 2, 0, 6, 4, 6, 5, 5, 6, 6, 1, 1, 4, 6, 6, 6, 1, 4, 2, 2, 6, 5, 0, 3, 2, 3, 6, 4, 3, 6, 2, 2, 6, 2, 5, 6, 0, 6, 6, 1, 1, 6, 6, 2, 5, 3, 4, 3, 0, 5, 5, 6, 3, 4, 6, 2, 5, 2, 4, 1, 5, 2, 4, 5, 4, 2, 6, 2, 5, 4, 6, 6, 1, 5, 5, 5, 4, 2, 3, 1, 0, 4, 5, 1, 4, 4, 6, 6, 4, 3, 0, 4, 4, 4, 5, 4, 4, 5, 5, 6, 4, 2, 5, 6, 1, 4, 5, 2, 6, 3, 2, 5, 5, 6, 5, 4, 5, 1, 3, 4, 6, 6, 0, 1, 0, 5, 2, 5, 3, 3, 6, 5, 4, 4, 2, 6, 2, 2, 4, 4, 0, 3, 1, 4, 5, 4, 3, 1, 1, 6, 2, 5, 3, 4, 2, 3, 6, 1, 4, 4, 4, 5, 2, 0, 0, 5, 6, 2, 5, 6, 0, 3, 5, 1, 4, 1, 2, 2, 4, 1, 2, 6, 5, 5, 1, 4, 4, 4, 5, 4, 2, 4, 0, 4, 3, 4, 0, 5, 2, 6, 5, 4, 4, 5, 5, 0, 6, 5, 2, 3, 4, 0, 4, 2, 5, 6, 3, 6, 4, 0, 4, 5, 3, 6, 4, 6, 6, 4, 6, 4, 1, 0, 3, 0, 4, 4, 4, 1, 5, 3, 4, 2, 2, 5, 0, 1, 3, 5, 0, 6, 4, 2, 5, 4, 3, 3, 1, 2, 6, 4, 4, 6, 1, 4, 6, 2, 3, 5, 3, 5, 1, 4, 3, 2, 4, 5, 4, 3, 4, 3, 6, 5, 5, 2, 4, 2, 3, 6, 2, 0, 4, 6, 6, 1, 0, 6, 6, 5, 1, 2, 0, 3, 6, 6, 5, 4, 4, 1, 5, 3, 0, 3, 3, 5, 4, 3, 2, 4, 5, 5, 4, 4, 5, 4, 2, 2, 0, 0, 4, 4, 4, 6, 5, 4, 1, 0, 5, 4, 6, 2, 5, 0, 1, 4, 2, 6, 6, 2, 5, 4, 4, 3, 6, 2, 4, 6, 2, 6, 5, 5, 4, 2, 4, 3, 6, 3, 2, 4, 4, 0, 5, 2, 4, 1, 5, 5, 5, 1, 5, 5, 3, 3, 1, 2, 2, 1, 6, 2, 2, 1, 4, 5, 2, 2, 1, 2, 3, 6, 6, 0, 4, 1, 2, 1, 6, 6, 0, 5, 2, 0, 6, 4, 1, 4, 2, 5, 6, 2, 4, 5, 6, 4, 0, 5, 3, 4, 1, 3, 4, 5, 1, 6, 6, 0, 5, 1, 3, 2, 6, 5, 3, 2, 1, 5, 4, 4, 3, 3, 4, 6, 0, 0, 3, 3, 3, 6, 1, 0, 3, 4, 2, 5, 6, 4, 6, 1, 3, 5, 2, 5, 3, 1, 0, 1, 5, 6, 0, 5, 3, 3, 0, 4, 5, 0, 5, 1, 3, 6, 2, 3, 1, 5, 0, 0, 6, 2, 4, 6, 1, 4, 1, 4, 1, 3, 1, 3, 5, 4, 0, 1, 5, 2, 5, 4, 1, 3, 4, 5, 4, 1, 2, 1, 4, 1, 6, 0, 6, 1, 6, 4, 3, 4, 5, 4, 5, 0, 3, 1, 4, 2, 6, 5, 1, 2, 2, 4, 4, 4, 6, 2, 1, 0, 6, 2, 3, 5, 5, 5, 2, 5, 5, 5, 3, 1, 5, 4, 4, 3, 3, 6, 2, 0, 5, 4, 4, 4, 6, 5, 6, 4, 6, 4, 4, 2, 4, 5, 6, 6, 0, 2, 5, 4, 1, 1, 1, 5, 0, 2, 6, 4, 0, 1, 0, 3, 2, 4, 6, 5, 0, 4, 3, 0, 1, 4, 6, 5, 6, 6, 6, 4, 5, 4, 3, 4, 1, 4, 5, 6, 6, 0, 6, 0, 6, 5, 6, 2, 2, 2, 5, 2, 2, 3, 5, 5, 1, 1, 2, 2, 6, 3, 4, 6, 3, 4, 0, 3, 4, 4, 5, 4, 1, 5, 2, 5, 6, 3, 4, 1, 5, 0, 3, 2, 4, 3, 4, 1, 1, 5, 3, 1, 0, 5, 2, 1, 4, 1, 2, 2, 1, 5, 5, 4, 1, 4, 4, 6, 4, 0, 5, 6, 4, 2, 6, 6, 0, 4, 0, 1, 6, 1, 4, 4, 5, 6, 1, 4, 5, 4, 2, 0, 4, 5, 2, 2, 6, 2, 3, 6, 2, 0, 6, 1, 6, 4, 1, 0, 4, 4, 3, 1, 1, 4, 1, 4, 5, 6, 0, 5, 4, 4, 1, 5, 2, 2, 5, 4, 4, 3, 3, 3, 1, 1, 5, 6, 5, 6, 4, 5, 4, 4, 1, 5, 5, 4, 6, 6, 5, 0, 6, 5, 2, 4, 6, 2, 2, 1, 2, 4, 2, 5, 6, 5, 2, 0, 5, 2, 4, 0, 2, 4, 4, 5, 5, 4, 2, 1, 6, 5, 4, 6, 2, 2, 5, 6, 5, 0, 3, 4, 5, 6, 4, 0, 0, 0, 6, 4, 5, 3, 5, 0, 2, 6, 4, 0, 3, 1, 5, 4, 5, 4, 5, 3, 1, 3, 4, 3, 2, 0, 6, 3, 5, 2, 4, 3, 6, 3, 6, 4, 6, 0, 3, 4, 6, 3, 3, 6, 2, 2, 2, 2, 3, 0, 6, 2, 4, 5, 0, 5, 4, 6, 3, 4, 6, 5, 5, 3, 5, 5, 0, 5, 1, 3, 1, 6, 1, 5, 6, 4, 5, 0, 3, 1, 5, 4, 2, 4, 5, 5, 3, 0, 4, 4, 2, 0, 0, 4, 5, 4, 2, 0, 5, 4, 1, 4, 4, 6, 0, 6, 5, 4, 6, 5, 5, 6, 5, 4, 5, 1, 5, 4, 4, 4, 5, 2, 2, 0, 4, 4, 0, 5, 3, 6, 2, 5, 4, 5, 2, 6, 4, 4, 0, 5, 5, 6, 5, 3, 3, 2, 4, 1, 1, 1, 2, 1, 5, 5, 5, 5, 6, 6, 5, 3, 4, 2, 4, 3, 5, 1, 5, 0, 2, 5, 1, 5, 0, 4, 4, 2, 5, 6, 2, 6, 1, 1, 3, 1, 4, 4, 1, 4, 2, 0, 6, 6, 3, 2, 2, 1, 1, 5, 5, 2, 4, 6, 5, 5, 4, 0, 5, 5, 3, 6, 2, 6, 1, 0, 1, 5, 3, 3, 0, 2, 6, 3, 4, 4, 0, 4, 2, 0, 4, 4, 2, 4, 4, 4, 0, 0, 2, 3, 1, 2, 5, 3, 3, 6, 4, 5, 3, 4, 5, 6, 1, 6, 6, 2, 0, 4, 6, 6, 2, 1, 0, 4, 4, 1, 1, 1, 6, 3, 1, 4, 0, 0, 2, 1, 6, 6, 3, 3, 4, 1, 0, 4, 3, 3, 1, 4, 5, 5, 1, 2, 3, 4, 0, 5, 5, 4, 4, 4, 1, 5, 0, 4, 3, 5, 6, 4, 4, 3, 5, 6, 6, 4, 0, 4, 5, 6, 2, 1, 1, 0, 5, 6, 0, 3, 2, 3, 0, 3, 5, 4, 5, 3, 4, 2, 4, 3, 6, 3, 3, 4, 4, 3, 3, 5, 4, 6, 5, 3, 1, 2, 1, 0, 4, 4, 3, 5, 2, 4, 2, 4, 5, 0, 4, 6, 5, 2, 0, 1, 4, 5, 3, 1, 5, 3, 5, 6, 6, 6, 4, 0, 4, 5, 3, 5, 3, 5, 5, 5, 6, 1, 1, 6, 5, 5, 5, 1, 0, 6, 5, 4, 4, 3, 3, 6, 6, 5, 3, 6, 6, 0, 5, 6, 2, 3, 1, 6, 5, 5, 3, 5, 5, 2, 6, 3, 6, 2, 6, 5, 6, 0, 2, 0, 5, 2, 0, 6, 5, 6, 6, 3, 2, 5, 2, 0, 6, 6, 0, 5, 1, 2, 3, 3, 1, 2, 3, 6, 3, 1, 6, 4, 5, 5, 1, 5, 5, 5, 1, 6, 6, 6, 1, 0, 5, 0, 0, 4, 1, 5, 6, 0, 1, 6, 1, 6, 6, 6, 0, 6, 6, 2, 2, 0, 3, 0, 2, 5, 0, 0, 2, 3, 2, 6, 2, 1, 0, 2, 6, 0, 1, 6, 0, 3, 6, 2, 0, 5, 6, 6, 1, 0, 3, 3, 3, 1, 1, 3, 2, 5, 5, 1, 2, 1, 6, 3, 4, 6, 2, 0, 6, 5, 5, 6, 1, 6, 3, 6, 0, 3, 0, 5, 5, 2, 3, 0, 0, 3, 1, 0, 2, 2, 0, 2, 0, 0, 5, 3, 3, 1, 4, 0, 1, 2, 0, 1, 1, 3, 1, 2, 6, 0, 3, 0, 1, 3, 2, 1, 0, 1, 3, 2, 1, 2, 3, 1, 2, 0, 0, 2, 1, 0, 1, 3, 2, 1, 1, 2, 1, 2, 0, 1, 1, 0, 3, 0, 6, 1, 3, 2, 1, 3, 3, 4, 2, 3, 0, 1, 1, 2, 2, 3, 2, 2, 4, 2, 2, 2, 0, 0, 4, 0, 6, 0, 0, 2, 3, 3, 1, 2, 2, 3, 1, 2, 2, 4, 2, 1, 3, 3, 0, 3, 0, 0, 0, 1, 3, 0, 5, 0, 3, 1, 3, 1, 3, 1, 2, 4, 3, 3, 2, 1, 0, 2, 3, 2, 0, 4, 1, 0, 3, 1, 0, 3, 2, 2, 0, 0, 1, 1, 1, 0, 1, 3, 1, 1, 2, 1, 2, 3, 3, 2, 3, 1, 2, 1, 2, 1, 3, 3, 3, 2, 0, 0, 0, 3, 2, 1, 2, 2, 0, 2, 1, 0, 2, 4, 2, 3, 2, 0, 0, 1, 2, 1, 2, 0, 3, 3, 0, 3, 1, 3, 2, 6, 4, 4, 3, 0, 3, 0, 0, 0, 0, 4, 2, 2, 3, 2, 2, 0, 3, 2, 2, 1, 1, 0, 3, 1, 3, 2, 0, 1, 2, 2, 1, 6, 1, 1, 2, 3, 0, 0, 1, 2, 0, 3, 2, 1, 2, 0, 3, 0, 3, 4, 1, 2, 2, 0, 2, 2, 0, 2, 3, 3, 6, 0, 2, 3, 0, 2, 0, 2, 3, 0, 0, 1, 2, 0, 2, 1, 4, 0, 0, 0, 3, 2, 2, 0, 6, 1, 1, 0, 1, 3, 0, 1, 1, 0, 0, 0, 6, 2, 1, 4, 1, 1, 1, 3, 1, 3, 2, 3, 2, 0, 3, 1, 2, 2, 2, 0, 2, 6, 2, 0, 0, 2, 0, 1, 1, 3, 1, 2, 3, 1, 2, 3, 0, 2, 1, 1, 3, 0, 2, 3, 1, 1, 4, 3, 2, 2, 3, 2, 0, 4, 2, 2, 1, 0, 2, 3, 1, 1, 0, 1, 1, 0, 3, 2, 0, 3, 3, 2, 3, 0, 1, 1, 2, 1, 2, 1, 0, 3, 3, 0, 2, 0, 1, 4, 2, 3, 0, 0, 2, 0, 0, 0, 2, 3, 1, 0, 2, 2, 3, 2, 3, 1, 0, 3, 1, 1, 1, 1, 2, 1, 6, 2, 1, 2, 3, 3, 2, 0, 0, 2, 0, 3, 0, 2, 0, 1, 1, 0, 2, 0, 0, 2, 1, 0, 1, 1, 2, 3, 0, 0, 1, 2, 2, 3, 1, 3, 3, 2, 2, 1, 0, 3, 3, 3, 3, 3, 2, 2, 3, 3, 0, 2, 0, 1, 0, 1, 1, 1, 3, 2, 1, 1, 0, 1, 1, 1, 3, 4, 1, 2, 1, 1, 3, 3, 1, 2, 2, 1, 2, 1, 6, 1, 1, 1, 3, 1, 0, 0, 0, 4, 1, 4, 1, 0, 0, 3, 2, 3, 1, 1, 3, 0, 6, 1, 5, 2, 2, 1, 1, 3, 6, 2, 2, 2, 1, 3, 1, 3, 3, 1, 6, 1, 2, 0, 0, 3, 1, 2, 6, 2, 2, 0, 1, 2, 1, 1, 3, 1, 1, 1, 3, 1, 3, 1, 2, 1, 3, 1, 2, 2, 3, 1, 3, 3, 2, 1, 3, 2, 2, 2, 3, 1, 2, 0, 1, 3, 3, 6, 2, 1, 1, 4, 3, 1, 2, 3, 1, 1, 2, 3, 2, 1, 1, 1, 2, 1, 1, 3, 6, 3, 3, 1, 2, 1, 2, 3, 1, 3, 2, 2, 2, 3, 2, 2, 3, 2, 3, 2, 3, 0, 3, 4, 2, 3, 3, 2, 3, 3, 0, 2, 1, 3, 3, 1, 3, 3, 2, 3, 2, 3, 6, 0, 0, 2, 2, 3, 3, 3, 4, 2, 3, 2, 3, 2, 3, 3, 2, 3, 6, 3, 3, 0, 3, 3, 3, 4, 6, 2, 4, 2, 0, 3, 3, 2, 4, 3, 2, 2, 2, 2, 2, 6, 2, 0, 2, 3, 3, 2, 2, 4, 0, 2, 2, 4, 2, 6, 5, 2, 0, 5, 6, 6, 2, 2, 6, 1, 3, 2, 0, 0, 5, 2, 2, 6, 1, 2, 2, 2, 2, 2, 5, 2, 2, 2, 2, 6, 2, 6, 2, 2, 1, 2, 3, 6, 2, 2, 2, 2, 2, 2, 1, 2, 0, 2, 2, 2, 1, 2, 2, 2, 6, 2, 3, 2, 4, 4, 2, 6, 2, 5, 2, 2, 2, 2, 2, 2, 2, 2, 6, 2, 1, 2, 2, 2, 2, 2, 1, 2, 6, 2, 2, 2, 2, 2, 2, 1, 2, 5, 2, 3, 1, 3, 3, 1, 2, 5, 1, 2, 2, 2, 0, 0, 2, 6, 2, 6, 2, 0, 6, 2, 2, 2, 2, 2, 5, 2, 2, 0, 4, 2, 2, 2, 2, 2, 2, 2, 2, 2, 2, 2, 2, 2, 2, 2, 2, 6, 2, 2, 2, 3, 2, 2, 1, 0, 1, 0, 2, 2, 1, 2, 0, 2, 1, 2, 2, 2, 2, 2, 2, 3, 2, 2, 2, 2, 2, 2, 2, 2, 6, 6, 2, 3, 2, 4, 2, 6, 2, 6, 1, 2, 2, 3, 2, 2, 2, 6, 6, 1, 1, 0, 2, 2, 3, 1, 3, 2, 2, 2, 2]\n"
          ],
          "name": "stdout"
        },
        {
          "output_type": "display_data",
          "data": {
            "text/html": [
              "<div>\n",
              "<style scoped>\n",
              "    .dataframe tbody tr th:only-of-type {\n",
              "        vertical-align: middle;\n",
              "    }\n",
              "\n",
              "    .dataframe tbody tr th {\n",
              "        vertical-align: top;\n",
              "    }\n",
              "\n",
              "    .dataframe thead th {\n",
              "        text-align: right;\n",
              "    }\n",
              "</style>\n",
              "<table border=\"1\" class=\"dataframe\">\n",
              "  <thead>\n",
              "    <tr style=\"text-align: right;\">\n",
              "      <th></th>\n",
              "      <th>0</th>\n",
              "    </tr>\n",
              "    <tr>\n",
              "      <th>idx</th>\n",
              "      <th></th>\n",
              "    </tr>\n",
              "  </thead>\n",
              "  <tbody>\n",
              "    <tr>\n",
              "      <th>45654</th>\n",
              "      <td>3</td>\n",
              "    </tr>\n",
              "    <tr>\n",
              "      <th>45655</th>\n",
              "      <td>2</td>\n",
              "    </tr>\n",
              "    <tr>\n",
              "      <th>45656</th>\n",
              "      <td>2</td>\n",
              "    </tr>\n",
              "    <tr>\n",
              "      <th>45657</th>\n",
              "      <td>3</td>\n",
              "    </tr>\n",
              "    <tr>\n",
              "      <th>45658</th>\n",
              "      <td>0</td>\n",
              "    </tr>\n",
              "    <tr>\n",
              "      <th>...</th>\n",
              "      <td>...</td>\n",
              "    </tr>\n",
              "    <tr>\n",
              "      <th>54779</th>\n",
              "      <td>3</td>\n",
              "    </tr>\n",
              "    <tr>\n",
              "      <th>54780</th>\n",
              "      <td>2</td>\n",
              "    </tr>\n",
              "    <tr>\n",
              "      <th>54781</th>\n",
              "      <td>2</td>\n",
              "    </tr>\n",
              "    <tr>\n",
              "      <th>54782</th>\n",
              "      <td>2</td>\n",
              "    </tr>\n",
              "    <tr>\n",
              "      <th>54783</th>\n",
              "      <td>2</td>\n",
              "    </tr>\n",
              "  </tbody>\n",
              "</table>\n",
              "<p>9130 rows × 1 columns</p>\n",
              "</div>"
            ],
            "text/plain": [
              "       0\n",
              "idx     \n",
              "45654  3\n",
              "45655  2\n",
              "45656  2\n",
              "45657  3\n",
              "45658  0\n",
              "...   ..\n",
              "54779  3\n",
              "54780  2\n",
              "54781  2\n",
              "54782  2\n",
              "54783  2\n",
              "\n",
              "[9130 rows x 1 columns]"
            ]
          },
          "metadata": {
            "tags": []
          }
        },
        {
          "output_type": "stream",
          "text": [
            "9130\n"
          ],
          "name": "stdout"
        }
      ]
    }
  ]
}